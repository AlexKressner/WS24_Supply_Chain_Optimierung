{
  "nbformat": 4,
  "nbformat_minor": 0,
  "metadata": {
    "colab": {
      "provenance": [],
      "authorship_tag": "ABX9TyPLi/0EauC4otTY/Jsu23Tl",
      "include_colab_link": true
    },
    "kernelspec": {
      "name": "python3",
      "display_name": "Python 3"
    },
    "language_info": {
      "name": "python"
    }
  },
  "cells": [
    {
      "cell_type": "markdown",
      "metadata": {
        "id": "view-in-github",
        "colab_type": "text"
      },
      "source": [
        "<a href=\"https://colab.research.google.com/github/AlexKressner/WS24_Supply_Chain_Optimierung/blob/main/Raffinerieproblem.ipynb\" target=\"_parent\"><img src=\"https://colab.research.google.com/assets/colab-badge.svg\" alt=\"Open In Colab\"/></a>"
      ]
    },
    {
      "cell_type": "code",
      "execution_count": 89,
      "metadata": {
        "id": "9nfCME0_Lx05"
      },
      "outputs": [],
      "source": [
        "# pip als Paketmanager\n",
        "! pip install -q pyscipopt"
      ]
    },
    {
      "cell_type": "code",
      "source": [
        "from pyscipopt import Model, quicksum"
      ],
      "metadata": {
        "id": "qrpgFGjALyiy"
      },
      "execution_count": 90,
      "outputs": []
    },
    {
      "cell_type": "markdown",
      "source": [
        "# Optimierungsmodell zur Produktionsplanung"
      ],
      "metadata": {
        "id": "1k-fB9oinyM7"
      }
    },
    {
      "cell_type": "code",
      "source": [
        "# Erstellen einer Modellinstanz\n",
        "scip = Model()"
      ],
      "metadata": {
        "id": "DqnRqdDApk9E"
      },
      "execution_count": 91,
      "outputs": []
    },
    {
      "cell_type": "markdown",
      "source": [
        "## Indexmengen"
      ],
      "metadata": {
        "id": "HQvqRr9JnwMh"
      }
    },
    {
      "cell_type": "code",
      "source": [
        "J = ['K1','K2','K3','K4'] # Menge der Produkte\n",
        "I = ['R1','R2','R3','Raffineriekapazität'] # Menge der Produktionsfaktoren"
      ],
      "metadata": {
        "id": "hwH_MTKEn0iL"
      },
      "execution_count": 92,
      "outputs": []
    },
    {
      "cell_type": "markdown",
      "source": [
        "## Parameter (Daten)"
      ],
      "metadata": {
        "id": "J4Z0Jylyn6Hb"
      }
    },
    {
      "cell_type": "code",
      "source": [
        "c={} # Deckungsbeiträge\n",
        "c['K1']=5\n",
        "c['K2']=8\n",
        "c['K3']=15\n",
        "c['K4']=3"
      ],
      "metadata": {
        "id": "16snopE6n8LM"
      },
      "execution_count": 93,
      "outputs": []
    },
    {
      "cell_type": "code",
      "source": [
        "# Erweiterung Mindestproduktionsmengen\n",
        "mpm={}\n",
        "mpm['K1']=100\n",
        "mpm['K2']=0\n",
        "mpm['K3']=25\n",
        "mpm['K4']=0"
      ],
      "metadata": {
        "id": "cfscDEvoDQFC"
      },
      "execution_count": 94,
      "outputs": []
    },
    {
      "cell_type": "code",
      "source": [
        "a={} # Produktionskoeffizienten, a[i,j]\n",
        "a['R1']={'K1':1,'K2':1,'K3':2,'K4':1}\n",
        "a['R2']={'K1':2,'K2':1,'K3':3,'K4':0}\n",
        "a['R3']={'K1':0,'K2':1,'K3':2,'K4':1}\n",
        "a['Raffineriekapazität']={'K1':1,'K2':1,'K3':1,'K4':1}"
      ],
      "metadata": {
        "id": "3tDODUrNn--F"
      },
      "execution_count": 95,
      "outputs": []
    },
    {
      "cell_type": "code",
      "source": [
        "b={} # Kapazitäten Produktionsfaktoren\n",
        "b['R1']=1000\n",
        "b['R2']=500\n",
        "b['R3']=1500\n",
        "b['Raffineriekapazität']=2250"
      ],
      "metadata": {
        "id": "gebL0QDgoEOo"
      },
      "execution_count": 97,
      "outputs": []
    },
    {
      "cell_type": "markdown",
      "source": [
        "## Entscheidungsvariablen"
      ],
      "metadata": {
        "id": "L0Ho9tuAoG8n"
      }
    },
    {
      "cell_type": "code",
      "source": [
        "# Definition der Entscheidungsvariablen\n",
        "x={}\n",
        "for j in J:\n",
        "    x[j] = scip.addVar(vtype='C', lb=mpm[j], ub=None, name=j)\n",
        "print('Entscheidungsvariablen =', scip.getVars())"
      ],
      "metadata": {
        "id": "1b4ajhJ4oJAW",
        "colab": {
          "base_uri": "https://localhost:8080/"
        },
        "outputId": "416ad287-3fd9-4663-d104-ab945c8db0ae"
      },
      "execution_count": 100,
      "outputs": [
        {
          "output_type": "stream",
          "name": "stdout",
          "text": [
            "Entscheidungsvariablen = [K1, K2, K3, K4]\n"
          ]
        }
      ]
    },
    {
      "cell_type": "markdown",
      "source": [
        "## Zielfunktion"
      ],
      "metadata": {
        "id": "7-sH7ayQptNn"
      }
    },
    {
      "cell_type": "code",
      "source": [
        "# Maximierung der gesamten Deckungsbeiträge\n",
        "scip.setObjective(quicksum(c[j]*x[j] for j in J), sense=\"maximize\")"
      ],
      "metadata": {
        "id": "DP11hT9cpvNS"
      },
      "execution_count": 101,
      "outputs": []
    },
    {
      "cell_type": "markdown",
      "source": [
        "## Nebenbedingungen/ Restriktionen"
      ],
      "metadata": {
        "id": "eUVXIzAHqVSe"
      }
    },
    {
      "cell_type": "code",
      "source": [
        "for i in I:\n",
        "    scip.addCons(quicksum(a[i][j]*x[j] for j in J)<=b[i], name=i)"
      ],
      "metadata": {
        "id": "7N_nK2zSqURt"
      },
      "execution_count": 102,
      "outputs": []
    },
    {
      "cell_type": "code",
      "source": [
        "# Erweiterung: Kopplung\n",
        "scip.addCons(x[\"K1\"] == 2*x[\"K4\"], name=\"Kopplung\")"
      ],
      "metadata": {
        "colab": {
          "base_uri": "https://localhost:8080/"
        },
        "id": "XSHTRg-zEWjE",
        "outputId": "9f6fc132-0199-4086-da79-41270d530352"
      },
      "execution_count": 103,
      "outputs": [
        {
          "output_type": "execute_result",
          "data": {
            "text/plain": [
              "Kopplung"
            ]
          },
          "metadata": {},
          "execution_count": 103
        }
      ]
    },
    {
      "cell_type": "code",
      "source": [
        "print('Nebenbedingungen =', scip.getConss())"
      ],
      "metadata": {
        "colab": {
          "base_uri": "https://localhost:8080/"
        },
        "id": "34uJouKaGM9N",
        "outputId": "5c5c30f8-f109-4c1e-9d65-23047eff30d8"
      },
      "execution_count": 104,
      "outputs": [
        {
          "output_type": "stream",
          "name": "stdout",
          "text": [
            "Nebenbedingungen = [R1, R2, R3, Raffineriekapazität, Kopplung]\n"
          ]
        }
      ]
    },
    {
      "cell_type": "markdown",
      "source": [
        "## Berechnung der Lösung"
      ],
      "metadata": {
        "id": "IPKeY5QcrCKo"
      }
    },
    {
      "cell_type": "code",
      "source": [
        "scip.optimize()\n",
        "# Status des Solvers\n",
        "status = scip.getStatus()\n",
        "print(f\"Status des Solvers: {status} \\n\")\n",
        "\n",
        "if status == \"optimal\":\n",
        "    print('LÖSUNG:')\n",
        "    print('Zielfunktionswert (Deckungsbeitrag) =', scip.getObjVal())\n",
        "    for j in J:\n",
        "        print(f'{j} =', round(scip.getVal(x[j])))\n",
        "else:\n",
        "    print('Problem hat keine Lösung')"
      ],
      "metadata": {
        "id": "fHtzLajYqL_D",
        "colab": {
          "base_uri": "https://localhost:8080/"
        },
        "outputId": "58c24481-9ad9-46c0-93f3-7a52072f25cc"
      },
      "execution_count": 105,
      "outputs": [
        {
          "output_type": "stream",
          "name": "stdout",
          "text": [
            "Status des Solvers: optimal \n",
            "\n",
            "LÖSUNG:\n",
            "Zielfunktionswert (Deckungsbeitrag) = 2825.0\n",
            "K1 = 100\n",
            "K2 = 225\n",
            "K3 = 25\n",
            "K4 = 50\n"
          ]
        }
      ]
    }
  ]
}