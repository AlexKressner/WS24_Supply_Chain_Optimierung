{
  "nbformat": 4,
  "nbformat_minor": 0,
  "metadata": {
    "colab": {
      "provenance": [],
      "authorship_tag": "ABX9TyMIE+fBxSWuPui7wVQFJBTw",
      "include_colab_link": true
    },
    "kernelspec": {
      "name": "python3",
      "display_name": "Python 3"
    },
    "language_info": {
      "name": "python"
    }
  },
  "cells": [
    {
      "cell_type": "markdown",
      "metadata": {
        "id": "view-in-github",
        "colab_type": "text"
      },
      "source": [
        "<a href=\"https://colab.research.google.com/github/AlexKressner/WS24_Supply_Chain_Optimierung/blob/main/Raffinerieproblem.ipynb\" target=\"_parent\"><img src=\"https://colab.research.google.com/assets/colab-badge.svg\" alt=\"Open In Colab\"/></a>"
      ]
    },
    {
      "cell_type": "code",
      "execution_count": null,
      "metadata": {
        "id": "9nfCME0_Lx05",
        "colab": {
          "base_uri": "https://localhost:8080/"
        },
        "outputId": "c51e19da-7d6c-45a0-db8b-651e07a544f5"
      },
      "outputs": [
        {
          "output_type": "stream",
          "name": "stdout",
          "text": [
            "\u001b[2K   \u001b[90m━━━━━━━━━━━━━━━━━━━━━━━━━━━━━━━━━━━━━━━━\u001b[0m \u001b[32m14.9/14.9 MB\u001b[0m \u001b[31m43.9 MB/s\u001b[0m eta \u001b[36m0:00:00\u001b[0m\n",
            "\u001b[?25h"
          ]
        }
      ],
      "source": [
        "# pip als Paketmanager\n",
        "! pip install -q pyscipopt"
      ]
    },
    {
      "cell_type": "code",
      "source": [
        "from pyscipopt import Model, quicksum"
      ],
      "metadata": {
        "id": "qrpgFGjALyiy"
      },
      "execution_count": null,
      "outputs": []
    },
    {
      "cell_type": "markdown",
      "source": [
        "# Optimierungsmodell zur Produktionsplanung"
      ],
      "metadata": {
        "id": "1k-fB9oinyM7"
      }
    },
    {
      "cell_type": "code",
      "source": [
        "# Erstellen einer Modellinstanz\n",
        "scip = Model()"
      ],
      "metadata": {
        "id": "DqnRqdDApk9E"
      },
      "execution_count": null,
      "outputs": []
    },
    {
      "cell_type": "markdown",
      "source": [
        "## Indexmengen"
      ],
      "metadata": {
        "id": "HQvqRr9JnwMh"
      }
    },
    {
      "cell_type": "code",
      "source": [
        "J = ['K1','K2','K3','K4'] # Menge der Produkte\n",
        "I = ['R1','R2','R3','Raffineriekapa'] # Menge der Produktionsfaktoren"
      ],
      "metadata": {
        "id": "hwH_MTKEn0iL"
      },
      "execution_count": null,
      "outputs": []
    },
    {
      "cell_type": "markdown",
      "source": [
        "## Parameter (Daten)"
      ],
      "metadata": {
        "id": "J4Z0Jylyn6Hb"
      }
    },
    {
      "cell_type": "code",
      "source": [
        "c={} # Deckungsbeiträge\n",
        "c['K1']=5\n",
        "c['K2']=8\n",
        "c['K3']=15\n",
        "c['K4']=3"
      ],
      "metadata": {
        "id": "16snopE6n8LM"
      },
      "execution_count": null,
      "outputs": []
    },
    {
      "cell_type": "code",
      "source": [
        "a={} # Produktionskoeffizienten, a[i,j]\n",
        "a['R1']={'K1':1,'K2':1,'K3':2,'K4':1}\n",
        "a['R2']={'K1':2,'K2':1,'K3':3,'K4':0}\n",
        "a['R3']={'K1':0,'K2':1,'K3':2,'K4':1}\n",
        "a['Raffineriekapazität']={'K1':1,'K2':1,'K3':1,'K4':1}"
      ],
      "metadata": {
        "id": "3tDODUrNn--F"
      },
      "execution_count": null,
      "outputs": []
    },
    {
      "cell_type": "code",
      "source": [
        "a"
      ],
      "metadata": {
        "colab": {
          "base_uri": "https://localhost:8080/"
        },
        "id": "orJ3uVEa3UDI",
        "outputId": "b90fe855-84f3-4571-e0a1-51ecba15a96e"
      },
      "execution_count": null,
      "outputs": [
        {
          "output_type": "execute_result",
          "data": {
            "text/plain": [
              "{'R1': {'K1': 1, 'K2': 1, 'K3': 2, 'K4': 1},\n",
              " 'R2': {'K1': 2, 'K2': 1, 'K3': 3, 'K4': 0},\n",
              " 'R3': {'K1': 0, 'K2': 1, 'K3': 2, 'K4': 1},\n",
              " 'Raffineriekapa': {'K1': 1, 'K2': 1, 'K3': 1, 'K4': 1}}"
            ]
          },
          "metadata": {},
          "execution_count": 7
        }
      ]
    },
    {
      "cell_type": "code",
      "source": [
        "b={} # Kapazitäten Produktionsfaktoren\n",
        "b['R1']=1000\n",
        "b['R2']=500\n",
        "b['R3']=1500\n",
        "b['Raffineriekapazität']=2250"
      ],
      "metadata": {
        "id": "gebL0QDgoEOo"
      },
      "execution_count": null,
      "outputs": []
    },
    {
      "cell_type": "markdown",
      "source": [
        "## Entscheidungsvariablen"
      ],
      "metadata": {
        "id": "L0Ho9tuAoG8n"
      }
    },
    {
      "cell_type": "code",
      "source": [
        "# Definition der Entscheidungsvariablen\n",
        "x={}\n",
        "for j in J:\n",
        "    x[j] = scip.addVar(vtype='C', lb=0, ub=None, name=j)\n",
        "print('Entscheidungsvariablen =', scip.getVars())"
      ],
      "metadata": {
        "id": "1b4ajhJ4oJAW",
        "colab": {
          "base_uri": "https://localhost:8080/"
        },
        "outputId": "cdc1059e-bf4e-43eb-fd34-08c27b992a15"
      },
      "execution_count": null,
      "outputs": [
        {
          "output_type": "stream",
          "name": "stdout",
          "text": [
            "Entscheidungsvariablen = [K1, K2, K3, K4]\n"
          ]
        }
      ]
    },
    {
      "cell_type": "markdown",
      "source": [
        "## Zielfunktion"
      ],
      "metadata": {
        "id": "7-sH7ayQptNn"
      }
    },
    {
      "cell_type": "code",
      "source": [
        "# Maximierung der gesamten Deckungsbeiträge\n",
        "scip.setObjective(quicksum(c[j]*x[j] for j in J), sense=\"maximize\")"
      ],
      "metadata": {
        "id": "DP11hT9cpvNS"
      },
      "execution_count": null,
      "outputs": []
    },
    {
      "cell_type": "markdown",
      "source": [
        "## Nebenbedingungen/ Restriktionen"
      ],
      "metadata": {
        "id": "eUVXIzAHqVSe"
      }
    },
    {
      "cell_type": "code",
      "source": [
        "for i in I:\n",
        "    scip.addCons(quicksum(a[i][j]*x[j] for j in J)<=b[i], name=i)\n",
        "print('Nebenbedingungen =', scip.getConss())"
      ],
      "metadata": {
        "id": "7N_nK2zSqURt",
        "colab": {
          "base_uri": "https://localhost:8080/"
        },
        "outputId": "204374cf-73a2-4854-a86b-8510c0b09bb2"
      },
      "execution_count": null,
      "outputs": [
        {
          "output_type": "stream",
          "name": "stdout",
          "text": [
            "Nebenbedingungen = [R1, R2, R3, Raffineriekapa]\n"
          ]
        }
      ]
    },
    {
      "cell_type": "markdown",
      "source": [
        "## Berechnung der Lösung"
      ],
      "metadata": {
        "id": "IPKeY5QcrCKo"
      }
    },
    {
      "cell_type": "code",
      "source": [
        "scip.optimize()\n",
        "# Status des Solvers\n",
        "status = scip.getStatus()\n",
        "print(f\"Status des Solvers: {status} \\n\")\n",
        "\n",
        "if status == \"optimal\":\n",
        "    print('LÖSUNG:')\n",
        "    print('Zielfunktionswert (Deckungsbeitrag) =', scip.getObjVal())\n",
        "    for j in J:\n",
        "        print(f'{j} =', round(scip.getVal(x[j])))\n",
        "else:\n",
        "    print('Problem hat keine Lösung')"
      ],
      "metadata": {
        "id": "fHtzLajYqL_D",
        "colab": {
          "base_uri": "https://localhost:8080/"
        },
        "outputId": "cede26dd-9cd2-411c-d634-3d3e67e1a0de"
      },
      "execution_count": null,
      "outputs": [
        {
          "output_type": "stream",
          "name": "stdout",
          "text": [
            "Status des Solvers: optimal \n",
            "\n",
            "LÖSUNG:\n",
            "Zielfunktionswert (Deckungsbeitrag) = 5500.0\n",
            "K1 = 0\n",
            "K2 = 500\n",
            "K3 = 0\n",
            "K4 = 500\n"
          ]
        }
      ]
    }
  ]
}