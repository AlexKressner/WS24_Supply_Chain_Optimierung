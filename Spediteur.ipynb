{
  "nbformat": 4,
  "nbformat_minor": 0,
  "metadata": {
    "colab": {
      "provenance": [],
      "authorship_tag": "ABX9TyNT0YN7Vdgtur37uYGuWija",
      "include_colab_link": true
    },
    "kernelspec": {
      "name": "python3",
      "display_name": "Python 3"
    },
    "language_info": {
      "name": "python"
    }
  },
  "cells": [
    {
      "cell_type": "markdown",
      "metadata": {
        "id": "view-in-github",
        "colab_type": "text"
      },
      "source": [
        "<a href=\"https://colab.research.google.com/github/AlexKressner/WS24_Supply_Chain_Optimierung/blob/main/Spediteur.ipynb\" target=\"_parent\"><img src=\"https://colab.research.google.com/assets/colab-badge.svg\" alt=\"Open In Colab\"/></a>"
      ]
    },
    {
      "cell_type": "code",
      "execution_count": 23,
      "metadata": {
        "id": "9nfCME0_Lx05"
      },
      "outputs": [],
      "source": [
        "# pip als Paketmanager\n",
        "! pip install -q pyscipopt"
      ]
    },
    {
      "cell_type": "code",
      "source": [
        "from pyscipopt import Model, quicksum"
      ],
      "metadata": {
        "id": "qrpgFGjALyiy"
      },
      "execution_count": 24,
      "outputs": []
    },
    {
      "cell_type": "markdown",
      "source": [
        "# Optimierungsmodell zur Produktionsplanung"
      ],
      "metadata": {
        "id": "1k-fB9oinyM7"
      }
    },
    {
      "cell_type": "code",
      "source": [
        "# Erstellen einer Modellinstanz\n",
        "scip = Model()"
      ],
      "metadata": {
        "id": "DqnRqdDApk9E"
      },
      "execution_count": 25,
      "outputs": []
    },
    {
      "cell_type": "markdown",
      "source": [
        "## Indexmengen"
      ],
      "metadata": {
        "id": "HQvqRr9JnwMh"
      }
    },
    {
      "cell_type": "markdown",
      "source": [
        "$i \\in \\mathcal{I}$"
      ],
      "metadata": {
        "id": "PnvxOP-njj5R"
      }
    },
    {
      "cell_type": "code",
      "source": [
        "I = ['A1','A2','A3','A4','A5','A6'] # Menge der Aufträge"
      ],
      "metadata": {
        "id": "hwH_MTKEn0iL"
      },
      "execution_count": 26,
      "outputs": []
    },
    {
      "cell_type": "markdown",
      "source": [
        "## Parameter (Daten)"
      ],
      "metadata": {
        "id": "J4Z0Jylyn6Hb"
      }
    },
    {
      "cell_type": "markdown",
      "source": [
        "$db_i$, $v_i$, $lv$"
      ],
      "metadata": {
        "id": "27qgz_Cejz6S"
      }
    },
    {
      "cell_type": "code",
      "source": [
        "db={} # Deckungsbeiträge\n",
        "db['A1']=10\n",
        "db['A2']=15\n",
        "db['A3']=25\n",
        "db['A4']=5\n",
        "db['A5']=11\n",
        "db['A6']=8"
      ],
      "metadata": {
        "id": "16snopE6n8LM"
      },
      "execution_count": 27,
      "outputs": []
    },
    {
      "cell_type": "code",
      "source": [
        "# Auftragsvolumen (m^3)\n",
        "v={}\n",
        "v['A1']=3\n",
        "v['A2']=4.5\n",
        "v['A3']=9.25\n",
        "v['A4']=1.2\n",
        "v['A5']=4\n",
        "v['A6']=2.7"
      ],
      "metadata": {
        "id": "cfscDEvoDQFC"
      },
      "execution_count": 28,
      "outputs": []
    },
    {
      "cell_type": "code",
      "source": [
        "lv=10 # Ladevolumen LKW"
      ],
      "metadata": {
        "id": "3tDODUrNn--F"
      },
      "execution_count": 29,
      "outputs": []
    },
    {
      "cell_type": "markdown",
      "source": [
        "## Entscheidungsvariablen"
      ],
      "metadata": {
        "id": "L0Ho9tuAoG8n"
      }
    },
    {
      "cell_type": "markdown",
      "source": [
        "$X_i \\in \\{0,1\\}$"
      ],
      "metadata": {
        "id": "lcPyYsisj53Y"
      }
    },
    {
      "cell_type": "code",
      "source": [
        "# Definition der Entscheidungsvariablen\n",
        "x={}\n",
        "for i in I:\n",
        "    x[i] = scip.addVar(vtype='B', name=f\"X_{i}\")\n",
        "print('Entscheidungsvariablen =', scip.getVars())"
      ],
      "metadata": {
        "id": "1b4ajhJ4oJAW",
        "colab": {
          "base_uri": "https://localhost:8080/"
        },
        "outputId": "ec140f90-cd58-4e8b-9227-0efd05c01b96"
      },
      "execution_count": 30,
      "outputs": [
        {
          "output_type": "stream",
          "name": "stdout",
          "text": [
            "Entscheidungsvariablen = [X_A1, X_A2, X_A3, X_A4, X_A5, X_A6]\n"
          ]
        }
      ]
    },
    {
      "cell_type": "markdown",
      "source": [
        "## Zielfunktion"
      ],
      "metadata": {
        "id": "7-sH7ayQptNn"
      }
    },
    {
      "cell_type": "markdown",
      "source": [
        "$\\text{max} DB = \\sum_i db_i \\cdot X_i$"
      ],
      "metadata": {
        "id": "55C_9IjxkAAo"
      }
    },
    {
      "cell_type": "code",
      "source": [
        "# Maximierung der gesamten Deckungsbeiträge\n",
        "scip.setObjective(quicksum(db[i]*x[i] for i in I), sense=\"maximize\")"
      ],
      "metadata": {
        "id": "DP11hT9cpvNS"
      },
      "execution_count": 31,
      "outputs": []
    },
    {
      "cell_type": "markdown",
      "source": [
        "## Nebenbedingungen/ Restriktionen"
      ],
      "metadata": {
        "id": "eUVXIzAHqVSe"
      }
    },
    {
      "cell_type": "markdown",
      "source": [
        "$\\sum_i v_i \\cdot X_i \\leq lv$"
      ],
      "metadata": {
        "id": "nh-AmwUvkK3V"
      }
    },
    {
      "cell_type": "code",
      "source": [
        "scip.addCons(quicksum(v[i]*x[i] for i in I)<=lv, name=\"Laderaumvolumen\")"
      ],
      "metadata": {
        "id": "7N_nK2zSqURt",
        "colab": {
          "base_uri": "https://localhost:8080/"
        },
        "outputId": "6b2024df-b9a7-4e7d-af0a-aa9b7ee77da7"
      },
      "execution_count": 32,
      "outputs": [
        {
          "output_type": "execute_result",
          "data": {
            "text/plain": [
              "Laderaumvolumen"
            ]
          },
          "metadata": {},
          "execution_count": 32
        }
      ]
    },
    {
      "cell_type": "code",
      "source": [
        "print('Nebenbedingungen =', scip.getConss())"
      ],
      "metadata": {
        "colab": {
          "base_uri": "https://localhost:8080/"
        },
        "id": "34uJouKaGM9N",
        "outputId": "017d909d-5db9-4b31-a658-fcd15400deb3"
      },
      "execution_count": 33,
      "outputs": [
        {
          "output_type": "stream",
          "name": "stdout",
          "text": [
            "Nebenbedingungen = [Laderaumvolumen]\n"
          ]
        }
      ]
    },
    {
      "cell_type": "markdown",
      "source": [
        "## Berechnung der Lösung"
      ],
      "metadata": {
        "id": "IPKeY5QcrCKo"
      }
    },
    {
      "cell_type": "code",
      "source": [
        "scip.optimize()\n",
        "# Status des Solvers\n",
        "status = scip.getStatus()\n",
        "print(f\"Status des Solvers: {status} \\n\")\n",
        "\n",
        "if status == \"optimal\":\n",
        "    print('LÖSUNG:')\n",
        "    print('Zielfunktionswert (Deckungsbeitrag) =', round(scip.getObjVal()))\n",
        "    volumen_used=0\n",
        "    for i in I:\n",
        "        print(f'{i} =', round(scip.getVal(x[i])))\n",
        "        volumen_used += v[i]*round(scip.getVal(x[i]))\n",
        "    print(f\"Ladevolumen: {volumen_used} m^3\")\n",
        "else:\n",
        "    print('Problem hat keine Lösung')"
      ],
      "metadata": {
        "id": "fHtzLajYqL_D",
        "colab": {
          "base_uri": "https://localhost:8080/"
        },
        "outputId": "6e2ba110-65ed-42fb-803d-a851624f9583"
      },
      "execution_count": 34,
      "outputs": [
        {
          "output_type": "stream",
          "name": "stdout",
          "text": [
            "Status des Solvers: optimal \n",
            "\n",
            "LÖSUNG:\n",
            "Zielfunktionswert (Deckungsbeitrag) = 31\n",
            "A1 = 0\n",
            "A2 = 1\n",
            "A3 = 0\n",
            "A4 = 1\n",
            "A5 = 1\n",
            "A6 = 0\n",
            "Ladevolumen: 9.7 m^3\n"
          ]
        }
      ]
    },
    {
      "cell_type": "code",
      "source": [],
      "metadata": {
        "id": "DEsJ-7AuO5cX"
      },
      "execution_count": 34,
      "outputs": []
    }
  ]
}