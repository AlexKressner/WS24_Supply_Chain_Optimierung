{
  "nbformat": 4,
  "nbformat_minor": 0,
  "metadata": {
    "colab": {
      "provenance": [],
      "authorship_tag": "ABX9TyPElnabaLeea66LKqVnuY9C",
      "include_colab_link": true
    },
    "kernelspec": {
      "name": "python3",
      "display_name": "Python 3"
    },
    "language_info": {
      "name": "python"
    }
  },
  "cells": [
    {
      "cell_type": "markdown",
      "metadata": {
        "id": "view-in-github",
        "colab_type": "text"
      },
      "source": [
        "<a href=\"https://colab.research.google.com/github/AlexKressner/WS24_Supply_Chain_Optimierung/blob/main/Spediteur.ipynb\" target=\"_parent\"><img src=\"https://colab.research.google.com/assets/colab-badge.svg\" alt=\"Open In Colab\"/></a>"
      ]
    },
    {
      "cell_type": "code",
      "execution_count": 84,
      "metadata": {
        "id": "9nfCME0_Lx05"
      },
      "outputs": [],
      "source": [
        "# pip als Paketmanager\n",
        "! pip install -q pyscipopt"
      ]
    },
    {
      "cell_type": "code",
      "source": [
        "from pyscipopt import Model, quicksum"
      ],
      "metadata": {
        "id": "qrpgFGjALyiy"
      },
      "execution_count": 85,
      "outputs": []
    },
    {
      "cell_type": "markdown",
      "source": [
        "# Optimierungsmodell zur Produktionsplanung"
      ],
      "metadata": {
        "id": "1k-fB9oinyM7"
      }
    },
    {
      "cell_type": "code",
      "source": [
        "# Erstellen einer Modellinstanz\n",
        "scip = Model()"
      ],
      "metadata": {
        "id": "DqnRqdDApk9E"
      },
      "execution_count": 86,
      "outputs": []
    },
    {
      "cell_type": "markdown",
      "source": [
        "## Indexmengen"
      ],
      "metadata": {
        "id": "HQvqRr9JnwMh"
      }
    },
    {
      "cell_type": "markdown",
      "source": [
        "$i \\in \\mathcal{I}$, $j \\in \\mathcal{J}$"
      ],
      "metadata": {
        "id": "PnvxOP-njj5R"
      }
    },
    {
      "cell_type": "code",
      "source": [
        "I = ['A1','A2','A3','A4','A5','A6'] # Menge der Aufträge\n",
        "J = ['LKW1','LKW2','LKW3'] # Menge der Transportmittel"
      ],
      "metadata": {
        "id": "hwH_MTKEn0iL"
      },
      "execution_count": 87,
      "outputs": []
    },
    {
      "cell_type": "markdown",
      "source": [
        "## Parameter (Daten)"
      ],
      "metadata": {
        "id": "J4Z0Jylyn6Hb"
      }
    },
    {
      "cell_type": "markdown",
      "source": [
        "$db_i$, $v_i$, $lv_j$"
      ],
      "metadata": {
        "id": "27qgz_Cejz6S"
      }
    },
    {
      "cell_type": "code",
      "source": [
        "db={} # Deckungsbeiträge\n",
        "db['A1']=10\n",
        "db['A2']=15\n",
        "db['A3']=25\n",
        "db['A4']=5\n",
        "db['A5']=11\n",
        "db['A6']=8"
      ],
      "metadata": {
        "id": "16snopE6n8LM"
      },
      "execution_count": 88,
      "outputs": []
    },
    {
      "cell_type": "code",
      "source": [
        "# Auftragsvolumen (m^3)\n",
        "v={}\n",
        "v['A1']=3\n",
        "v['A2']=4.5\n",
        "v['A3']=9.25\n",
        "v['A4']=1.2\n",
        "v['A5']=4\n",
        "v['A6']=2.7"
      ],
      "metadata": {
        "id": "cfscDEvoDQFC"
      },
      "execution_count": 89,
      "outputs": []
    },
    {
      "cell_type": "code",
      "source": [
        "# Ladevolumen LKW\n",
        "lv={}\n",
        "lv['LKW1']=10\n",
        "lv['LKW2']=8\n",
        "lv['LKW3']=5"
      ],
      "metadata": {
        "id": "3tDODUrNn--F"
      },
      "execution_count": 90,
      "outputs": []
    },
    {
      "cell_type": "markdown",
      "source": [
        "## Entscheidungsvariablen"
      ],
      "metadata": {
        "id": "L0Ho9tuAoG8n"
      }
    },
    {
      "cell_type": "markdown",
      "source": [
        "$X_{ij} \\in \\{0,1\\}$"
      ],
      "metadata": {
        "id": "lcPyYsisj53Y"
      }
    },
    {
      "cell_type": "code",
      "source": [
        "# Definition der Entscheidungsvariablen\n",
        "x={}\n",
        "for i in I:\n",
        "  for j in J:\n",
        "    x[i,j] = scip.addVar(vtype='B', name=f\"X_{i}_{j}\")\n",
        "print('Entscheidungsvariablen =', scip.getVars())"
      ],
      "metadata": {
        "id": "1b4ajhJ4oJAW",
        "colab": {
          "base_uri": "https://localhost:8080/"
        },
        "outputId": "6542e32f-4781-426d-d3c5-c4452dd044e1"
      },
      "execution_count": 91,
      "outputs": [
        {
          "output_type": "stream",
          "name": "stdout",
          "text": [
            "Entscheidungsvariablen = [X_A1_LKW1, X_A1_LKW2, X_A1_LKW3, X_A2_LKW1, X_A2_LKW2, X_A2_LKW3, X_A3_LKW1, X_A3_LKW2, X_A3_LKW3, X_A4_LKW1, X_A4_LKW2, X_A4_LKW3, X_A5_LKW1, X_A5_LKW2, X_A5_LKW3, X_A6_LKW1, X_A6_LKW2, X_A6_LKW3]\n"
          ]
        }
      ]
    },
    {
      "cell_type": "markdown",
      "source": [
        "## Zielfunktion"
      ],
      "metadata": {
        "id": "7-sH7ayQptNn"
      }
    },
    {
      "cell_type": "markdown",
      "source": [
        "$\\text{max} DB = \\sum_{i,j} db_i \\cdot X_{i,j}$"
      ],
      "metadata": {
        "id": "55C_9IjxkAAo"
      }
    },
    {
      "cell_type": "code",
      "source": [
        "# Maximierung der gesamten Deckungsbeiträge\n",
        "scip.setObjective(quicksum(db[i]*x[i,j] for i in I for j in J), sense=\"maximize\")"
      ],
      "metadata": {
        "id": "DP11hT9cpvNS"
      },
      "execution_count": 92,
      "outputs": []
    },
    {
      "cell_type": "markdown",
      "source": [
        "## Nebenbedingungen/ Restriktionen"
      ],
      "metadata": {
        "id": "eUVXIzAHqVSe"
      }
    },
    {
      "cell_type": "markdown",
      "source": [
        "$\\sum_i v_i \\cdot X_{i,j} \\leq lv_j$ für alle $j \\in \\mathcal{J}$"
      ],
      "metadata": {
        "id": "nh-AmwUvkK3V"
      }
    },
    {
      "cell_type": "code",
      "source": [
        "for j in J:\n",
        "  scip.addCons(quicksum(v[i]*x[i,j] for i in I)<=lv[j], name=f\"Laderaumvolumen_LKW_{j}\")"
      ],
      "metadata": {
        "id": "7N_nK2zSqURt"
      },
      "execution_count": 93,
      "outputs": []
    },
    {
      "cell_type": "markdown",
      "source": [
        "$\\sum_j X_{i,j} \\leq 1$ für alle $i \\in \\mathcal{I}$"
      ],
      "metadata": {
        "id": "u98SSYm2zGOC"
      }
    },
    {
      "cell_type": "code",
      "source": [
        "for i in I:\n",
        "  scip.addCons(quicksum(x[i,j] for j in J)<=1, name=f\"Einmaliges_Verladen_Auftrag_{i}\")"
      ],
      "metadata": {
        "id": "FCPtfl9Iytbs"
      },
      "execution_count": 94,
      "outputs": []
    },
    {
      "cell_type": "code",
      "source": [
        "print('Nebenbedingungen =', scip.getConss())"
      ],
      "metadata": {
        "colab": {
          "base_uri": "https://localhost:8080/"
        },
        "id": "34uJouKaGM9N",
        "outputId": "892a4c40-d0e7-4b1f-b1ca-6fcd6399ce7e"
      },
      "execution_count": 95,
      "outputs": [
        {
          "output_type": "stream",
          "name": "stdout",
          "text": [
            "Nebenbedingungen = [Laderaumvolumen_LKW_LKW1, Laderaumvolumen_LKW_LKW2, Laderaumvolumen_LKW_LKW3, Einmaliges_Verladen_Auftrag_A1, Einmaliges_Verladen_Auftrag_A2, Einmaliges_Verladen_Auftrag_A3, Einmaliges_Verladen_Auftrag_A4, Einmaliges_Verladen_Auftrag_A5, Einmaliges_Verladen_Auftrag_A6]\n"
          ]
        }
      ]
    },
    {
      "cell_type": "markdown",
      "source": [
        "## Berechnung der Lösung"
      ],
      "metadata": {
        "id": "IPKeY5QcrCKo"
      }
    },
    {
      "cell_type": "code",
      "source": [
        "scip.optimize()\n",
        "# Status des Solvers\n",
        "status = scip.getStatus()\n",
        "print(f\"Status des Solvers: {status} \\n\")\n",
        "\n",
        "if status == \"optimal\":\n",
        "    print('LÖSUNG:')\n",
        "    print('Zielfunktionswert (Deckungsbeitrag) =', round(scip.getObjVal()))\n",
        "    for j in J:\n",
        "      print(f'\\n{j}:')\n",
        "      for i in I:\n",
        "        print(f'X_{i}_{j} =', round(scip.getVal(x[i,j])))\n",
        "else:\n",
        "    print('Problem hat keine Lösung')"
      ],
      "metadata": {
        "id": "fHtzLajYqL_D",
        "colab": {
          "base_uri": "https://localhost:8080/"
        },
        "outputId": "8c98ef09-2729-4a56-edf4-755871f7028f"
      },
      "execution_count": 97,
      "outputs": [
        {
          "output_type": "stream",
          "name": "stdout",
          "text": [
            "Status des Solvers: optimal \n",
            "\n",
            "LÖSUNG:\n",
            "Zielfunktionswert (Deckungsbeitrag) = 64\n",
            "\n",
            "LKW1:\n",
            "X_A1_LKW1 = 0\n",
            "X_A2_LKW1 = 0\n",
            "X_A3_LKW1 = 1\n",
            "X_A4_LKW1 = 0\n",
            "X_A5_LKW1 = 0\n",
            "X_A6_LKW1 = 0\n",
            "\n",
            "LKW2:\n",
            "X_A1_LKW2 = 0\n",
            "X_A2_LKW2 = 0\n",
            "X_A3_LKW2 = 0\n",
            "X_A4_LKW2 = 1\n",
            "X_A5_LKW2 = 1\n",
            "X_A6_LKW2 = 1\n",
            "\n",
            "LKW3:\n",
            "X_A1_LKW3 = 0\n",
            "X_A2_LKW3 = 1\n",
            "X_A3_LKW3 = 0\n",
            "X_A4_LKW3 = 0\n",
            "X_A5_LKW3 = 0\n",
            "X_A6_LKW3 = 0\n"
          ]
        }
      ]
    },
    {
      "cell_type": "code",
      "source": [],
      "metadata": {
        "id": "DEsJ-7AuO5cX"
      },
      "execution_count": 96,
      "outputs": []
    }
  ]
}