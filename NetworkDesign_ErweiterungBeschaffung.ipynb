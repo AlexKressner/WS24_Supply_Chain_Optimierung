{
  "nbformat": 4,
  "nbformat_minor": 0,
  "metadata": {
    "colab": {
      "provenance": [],
      "authorship_tag": "ABX9TyPjMktz0nLs5NG8vw8aD/nY",
      "include_colab_link": true
    },
    "kernelspec": {
      "name": "python3",
      "display_name": "Python 3"
    },
    "language_info": {
      "name": "python"
    }
  },
  "cells": [
    {
      "cell_type": "markdown",
      "metadata": {
        "id": "view-in-github",
        "colab_type": "text"
      },
      "source": [
        "<a href=\"https://colab.research.google.com/github/AlexKressner/WS24_Supply_Chain_Optimierung/blob/main/NetworkDesign_ErweiterungBeschaffung.ipynb\" target=\"_parent\"><img src=\"https://colab.research.google.com/assets/colab-badge.svg\" alt=\"Open In Colab\"/></a>"
      ]
    },
    {
      "cell_type": "markdown",
      "metadata": {
        "id": "b2fc884d"
      },
      "source": [
        "# Network Design Erweiterung um Beschaffungsmärkte"
      ]
    },
    {
      "cell_type": "code",
      "execution_count": null,
      "metadata": {
        "id": "cdb29647",
        "colab": {
          "base_uri": "https://localhost:8080/"
        },
        "outputId": "984e3585-1f65-4b75-b405-1df42e93c988"
      },
      "outputs": [
        {
          "output_type": "stream",
          "name": "stdout",
          "text": [
            "Cloning into 'WS24_Supply_Chain_Optimierung'...\n",
            "remote: Enumerating objects: 81, done.\u001b[K\n",
            "remote: Counting objects: 100% (81/81), done.\u001b[K\n",
            "remote: Compressing objects: 100% (78/78), done.\u001b[K\n",
            "remote: Total 81 (delta 30), reused 3 (delta 0), pack-reused 0 (from 0)\u001b[K\n",
            "Receiving objects: 100% (81/81), 142.97 KiB | 4.47 MiB/s, done.\n",
            "Resolving deltas: 100% (30/30), done.\n"
          ]
        }
      ],
      "source": [
        "! git clone https://github.com/AlexKressner/WS24_Supply_Chain_Optimierung"
      ]
    },
    {
      "cell_type": "code",
      "execution_count": null,
      "metadata": {
        "id": "d8c0c7cc",
        "colab": {
          "base_uri": "https://localhost:8080/"
        },
        "outputId": "8c948387-9d27-44db-8e25-2a270059c84d"
      },
      "outputs": [
        {
          "output_type": "stream",
          "name": "stdout",
          "text": [
            "\u001b[2K   \u001b[90m━━━━━━━━━━━━━━━━━━━━━━━━━━━━━━━━━━━━━━━━\u001b[0m \u001b[32m14.9/14.9 MB\u001b[0m \u001b[31m27.1 MB/s\u001b[0m eta \u001b[36m0:00:00\u001b[0m\n",
            "\u001b[?25h"
          ]
        }
      ],
      "source": [
        "! pip install -q pyscipopt"
      ]
    },
    {
      "cell_type": "code",
      "source": [
        "import pandas as pd\n",
        "from pyscipopt import Model, quicksum"
      ],
      "metadata": {
        "id": "DkkKC0dg82Cc"
      },
      "execution_count": null,
      "outputs": []
    },
    {
      "cell_type": "markdown",
      "source": [
        "## Daten laden"
      ],
      "metadata": {
        "id": "DlVnvDbRshlS"
      }
    },
    {
      "cell_type": "code",
      "source": [
        "folder = \"WS24_Supply_Chain_Optimierung/Daten/NetworkDesign\""
      ],
      "metadata": {
        "id": "7MzXHG4B86Qx"
      },
      "execution_count": null,
      "outputs": []
    },
    {
      "cell_type": "code",
      "source": [
        "path = f\"{folder}/NetworkDesign_Invest_Kapa.csv\""
      ],
      "metadata": {
        "id": "m_knWvLgTtYP"
      },
      "execution_count": null,
      "outputs": []
    },
    {
      "cell_type": "code",
      "source": [
        "kapa=pd.read_csv(path, sep=\";\")"
      ],
      "metadata": {
        "id": "uF0YYNBI8ILm"
      },
      "execution_count": null,
      "outputs": []
    },
    {
      "cell_type": "code",
      "source": [
        "kapa.head()"
      ],
      "metadata": {
        "colab": {
          "base_uri": "https://localhost:8080/",
          "height": 204
        },
        "id": "OTgdg4yJ-vPz",
        "outputId": "da8db7bf-1cc9-4722-850b-536984d0c050"
      },
      "execution_count": null,
      "outputs": [
        {
          "output_type": "execute_result",
          "data": {
            "text/plain": [
              "  Produktionsstandort Ausbaustufe  Kapazitäten  Investitionen\n",
              "0          Charleston       klein           10           6000\n",
              "1          Charleston        groß           20           9000\n",
              "2            Curitiba       klein           10           4500\n",
              "3            Curitiba        groß           20           6750\n",
              "4             Hamburg       klein           10           6500"
            ],
            "text/html": [
              "\n",
              "  <div id=\"df-b5265e63-2145-48ad-95a7-96d1276727e0\" class=\"colab-df-container\">\n",
              "    <div>\n",
              "<style scoped>\n",
              "    .dataframe tbody tr th:only-of-type {\n",
              "        vertical-align: middle;\n",
              "    }\n",
              "\n",
              "    .dataframe tbody tr th {\n",
              "        vertical-align: top;\n",
              "    }\n",
              "\n",
              "    .dataframe thead th {\n",
              "        text-align: right;\n",
              "    }\n",
              "</style>\n",
              "<table border=\"1\" class=\"dataframe\">\n",
              "  <thead>\n",
              "    <tr style=\"text-align: right;\">\n",
              "      <th></th>\n",
              "      <th>Produktionsstandort</th>\n",
              "      <th>Ausbaustufe</th>\n",
              "      <th>Kapazitäten</th>\n",
              "      <th>Investitionen</th>\n",
              "    </tr>\n",
              "  </thead>\n",
              "  <tbody>\n",
              "    <tr>\n",
              "      <th>0</th>\n",
              "      <td>Charleston</td>\n",
              "      <td>klein</td>\n",
              "      <td>10</td>\n",
              "      <td>6000</td>\n",
              "    </tr>\n",
              "    <tr>\n",
              "      <th>1</th>\n",
              "      <td>Charleston</td>\n",
              "      <td>groß</td>\n",
              "      <td>20</td>\n",
              "      <td>9000</td>\n",
              "    </tr>\n",
              "    <tr>\n",
              "      <th>2</th>\n",
              "      <td>Curitiba</td>\n",
              "      <td>klein</td>\n",
              "      <td>10</td>\n",
              "      <td>4500</td>\n",
              "    </tr>\n",
              "    <tr>\n",
              "      <th>3</th>\n",
              "      <td>Curitiba</td>\n",
              "      <td>groß</td>\n",
              "      <td>20</td>\n",
              "      <td>6750</td>\n",
              "    </tr>\n",
              "    <tr>\n",
              "      <th>4</th>\n",
              "      <td>Hamburg</td>\n",
              "      <td>klein</td>\n",
              "      <td>10</td>\n",
              "      <td>6500</td>\n",
              "    </tr>\n",
              "  </tbody>\n",
              "</table>\n",
              "</div>\n",
              "    <div class=\"colab-df-buttons\">\n",
              "\n",
              "  <div class=\"colab-df-container\">\n",
              "    <button class=\"colab-df-convert\" onclick=\"convertToInteractive('df-b5265e63-2145-48ad-95a7-96d1276727e0')\"\n",
              "            title=\"Convert this dataframe to an interactive table.\"\n",
              "            style=\"display:none;\">\n",
              "\n",
              "  <svg xmlns=\"http://www.w3.org/2000/svg\" height=\"24px\" viewBox=\"0 -960 960 960\">\n",
              "    <path d=\"M120-120v-720h720v720H120Zm60-500h600v-160H180v160Zm220 220h160v-160H400v160Zm0 220h160v-160H400v160ZM180-400h160v-160H180v160Zm440 0h160v-160H620v160ZM180-180h160v-160H180v160Zm440 0h160v-160H620v160Z\"/>\n",
              "  </svg>\n",
              "    </button>\n",
              "\n",
              "  <style>\n",
              "    .colab-df-container {\n",
              "      display:flex;\n",
              "      gap: 12px;\n",
              "    }\n",
              "\n",
              "    .colab-df-convert {\n",
              "      background-color: #E8F0FE;\n",
              "      border: none;\n",
              "      border-radius: 50%;\n",
              "      cursor: pointer;\n",
              "      display: none;\n",
              "      fill: #1967D2;\n",
              "      height: 32px;\n",
              "      padding: 0 0 0 0;\n",
              "      width: 32px;\n",
              "    }\n",
              "\n",
              "    .colab-df-convert:hover {\n",
              "      background-color: #E2EBFA;\n",
              "      box-shadow: 0px 1px 2px rgba(60, 64, 67, 0.3), 0px 1px 3px 1px rgba(60, 64, 67, 0.15);\n",
              "      fill: #174EA6;\n",
              "    }\n",
              "\n",
              "    .colab-df-buttons div {\n",
              "      margin-bottom: 4px;\n",
              "    }\n",
              "\n",
              "    [theme=dark] .colab-df-convert {\n",
              "      background-color: #3B4455;\n",
              "      fill: #D2E3FC;\n",
              "    }\n",
              "\n",
              "    [theme=dark] .colab-df-convert:hover {\n",
              "      background-color: #434B5C;\n",
              "      box-shadow: 0px 1px 3px 1px rgba(0, 0, 0, 0.15);\n",
              "      filter: drop-shadow(0px 1px 2px rgba(0, 0, 0, 0.3));\n",
              "      fill: #FFFFFF;\n",
              "    }\n",
              "  </style>\n",
              "\n",
              "    <script>\n",
              "      const buttonEl =\n",
              "        document.querySelector('#df-b5265e63-2145-48ad-95a7-96d1276727e0 button.colab-df-convert');\n",
              "      buttonEl.style.display =\n",
              "        google.colab.kernel.accessAllowed ? 'block' : 'none';\n",
              "\n",
              "      async function convertToInteractive(key) {\n",
              "        const element = document.querySelector('#df-b5265e63-2145-48ad-95a7-96d1276727e0');\n",
              "        const dataTable =\n",
              "          await google.colab.kernel.invokeFunction('convertToInteractive',\n",
              "                                                    [key], {});\n",
              "        if (!dataTable) return;\n",
              "\n",
              "        const docLinkHtml = 'Like what you see? Visit the ' +\n",
              "          '<a target=\"_blank\" href=https://colab.research.google.com/notebooks/data_table.ipynb>data table notebook</a>'\n",
              "          + ' to learn more about interactive tables.';\n",
              "        element.innerHTML = '';\n",
              "        dataTable['output_type'] = 'display_data';\n",
              "        await google.colab.output.renderOutput(dataTable, element);\n",
              "        const docLink = document.createElement('div');\n",
              "        docLink.innerHTML = docLinkHtml;\n",
              "        element.appendChild(docLink);\n",
              "      }\n",
              "    </script>\n",
              "  </div>\n",
              "\n",
              "\n",
              "<div id=\"df-b67c1343-56e0-443b-a9a6-7e6aed54a54f\">\n",
              "  <button class=\"colab-df-quickchart\" onclick=\"quickchart('df-b67c1343-56e0-443b-a9a6-7e6aed54a54f')\"\n",
              "            title=\"Suggest charts\"\n",
              "            style=\"display:none;\">\n",
              "\n",
              "<svg xmlns=\"http://www.w3.org/2000/svg\" height=\"24px\"viewBox=\"0 0 24 24\"\n",
              "     width=\"24px\">\n",
              "    <g>\n",
              "        <path d=\"M19 3H5c-1.1 0-2 .9-2 2v14c0 1.1.9 2 2 2h14c1.1 0 2-.9 2-2V5c0-1.1-.9-2-2-2zM9 17H7v-7h2v7zm4 0h-2V7h2v10zm4 0h-2v-4h2v4z\"/>\n",
              "    </g>\n",
              "</svg>\n",
              "  </button>\n",
              "\n",
              "<style>\n",
              "  .colab-df-quickchart {\n",
              "      --bg-color: #E8F0FE;\n",
              "      --fill-color: #1967D2;\n",
              "      --hover-bg-color: #E2EBFA;\n",
              "      --hover-fill-color: #174EA6;\n",
              "      --disabled-fill-color: #AAA;\n",
              "      --disabled-bg-color: #DDD;\n",
              "  }\n",
              "\n",
              "  [theme=dark] .colab-df-quickchart {\n",
              "      --bg-color: #3B4455;\n",
              "      --fill-color: #D2E3FC;\n",
              "      --hover-bg-color: #434B5C;\n",
              "      --hover-fill-color: #FFFFFF;\n",
              "      --disabled-bg-color: #3B4455;\n",
              "      --disabled-fill-color: #666;\n",
              "  }\n",
              "\n",
              "  .colab-df-quickchart {\n",
              "    background-color: var(--bg-color);\n",
              "    border: none;\n",
              "    border-radius: 50%;\n",
              "    cursor: pointer;\n",
              "    display: none;\n",
              "    fill: var(--fill-color);\n",
              "    height: 32px;\n",
              "    padding: 0;\n",
              "    width: 32px;\n",
              "  }\n",
              "\n",
              "  .colab-df-quickchart:hover {\n",
              "    background-color: var(--hover-bg-color);\n",
              "    box-shadow: 0 1px 2px rgba(60, 64, 67, 0.3), 0 1px 3px 1px rgba(60, 64, 67, 0.15);\n",
              "    fill: var(--button-hover-fill-color);\n",
              "  }\n",
              "\n",
              "  .colab-df-quickchart-complete:disabled,\n",
              "  .colab-df-quickchart-complete:disabled:hover {\n",
              "    background-color: var(--disabled-bg-color);\n",
              "    fill: var(--disabled-fill-color);\n",
              "    box-shadow: none;\n",
              "  }\n",
              "\n",
              "  .colab-df-spinner {\n",
              "    border: 2px solid var(--fill-color);\n",
              "    border-color: transparent;\n",
              "    border-bottom-color: var(--fill-color);\n",
              "    animation:\n",
              "      spin 1s steps(1) infinite;\n",
              "  }\n",
              "\n",
              "  @keyframes spin {\n",
              "    0% {\n",
              "      border-color: transparent;\n",
              "      border-bottom-color: var(--fill-color);\n",
              "      border-left-color: var(--fill-color);\n",
              "    }\n",
              "    20% {\n",
              "      border-color: transparent;\n",
              "      border-left-color: var(--fill-color);\n",
              "      border-top-color: var(--fill-color);\n",
              "    }\n",
              "    30% {\n",
              "      border-color: transparent;\n",
              "      border-left-color: var(--fill-color);\n",
              "      border-top-color: var(--fill-color);\n",
              "      border-right-color: var(--fill-color);\n",
              "    }\n",
              "    40% {\n",
              "      border-color: transparent;\n",
              "      border-right-color: var(--fill-color);\n",
              "      border-top-color: var(--fill-color);\n",
              "    }\n",
              "    60% {\n",
              "      border-color: transparent;\n",
              "      border-right-color: var(--fill-color);\n",
              "    }\n",
              "    80% {\n",
              "      border-color: transparent;\n",
              "      border-right-color: var(--fill-color);\n",
              "      border-bottom-color: var(--fill-color);\n",
              "    }\n",
              "    90% {\n",
              "      border-color: transparent;\n",
              "      border-bottom-color: var(--fill-color);\n",
              "    }\n",
              "  }\n",
              "</style>\n",
              "\n",
              "  <script>\n",
              "    async function quickchart(key) {\n",
              "      const quickchartButtonEl =\n",
              "        document.querySelector('#' + key + ' button');\n",
              "      quickchartButtonEl.disabled = true;  // To prevent multiple clicks.\n",
              "      quickchartButtonEl.classList.add('colab-df-spinner');\n",
              "      try {\n",
              "        const charts = await google.colab.kernel.invokeFunction(\n",
              "            'suggestCharts', [key], {});\n",
              "      } catch (error) {\n",
              "        console.error('Error during call to suggestCharts:', error);\n",
              "      }\n",
              "      quickchartButtonEl.classList.remove('colab-df-spinner');\n",
              "      quickchartButtonEl.classList.add('colab-df-quickchart-complete');\n",
              "    }\n",
              "    (() => {\n",
              "      let quickchartButtonEl =\n",
              "        document.querySelector('#df-b67c1343-56e0-443b-a9a6-7e6aed54a54f button');\n",
              "      quickchartButtonEl.style.display =\n",
              "        google.colab.kernel.accessAllowed ? 'block' : 'none';\n",
              "    })();\n",
              "  </script>\n",
              "</div>\n",
              "\n",
              "    </div>\n",
              "  </div>\n"
            ],
            "application/vnd.google.colaboratory.intrinsic+json": {
              "type": "dataframe",
              "variable_name": "kapa",
              "summary": "{\n  \"name\": \"kapa\",\n  \"rows\": 10,\n  \"fields\": [\n    {\n      \"column\": \"Produktionsstandort\",\n      \"properties\": {\n        \"dtype\": \"string\",\n        \"num_unique_values\": 5,\n        \"samples\": [\n          \"Curitiba\",\n          \"East London\",\n          \"Hamburg\"\n        ],\n        \"semantic_type\": \"\",\n        \"description\": \"\"\n      }\n    },\n    {\n      \"column\": \"Ausbaustufe\",\n      \"properties\": {\n        \"dtype\": \"category\",\n        \"num_unique_values\": 2,\n        \"samples\": [\n          \"gro\\u00df\",\n          \"klein\"\n        ],\n        \"semantic_type\": \"\",\n        \"description\": \"\"\n      }\n    },\n    {\n      \"column\": \"Kapazit\\u00e4ten\",\n      \"properties\": {\n        \"dtype\": \"number\",\n        \"std\": 5,\n        \"min\": 10,\n        \"max\": 20,\n        \"num_unique_values\": 2,\n        \"samples\": [\n          20,\n          10\n        ],\n        \"semantic_type\": \"\",\n        \"description\": \"\"\n      }\n    },\n    {\n      \"column\": \"Investitionen\",\n      \"properties\": {\n        \"dtype\": \"number\",\n        \"std\": 1914,\n        \"min\": 4000,\n        \"max\": 9750,\n        \"num_unique_values\": 9,\n        \"samples\": [\n          6150,\n          9000\n        ],\n        \"semantic_type\": \"\",\n        \"description\": \"\"\n      }\n    }\n  ]\n}"
            }
          },
          "metadata": {},
          "execution_count": 7
        }
      ]
    },
    {
      "cell_type": "code",
      "source": [
        "path = f\"{folder}/NetworkDesign_Produktionskosten.csv\""
      ],
      "metadata": {
        "id": "UYsH1A95BQVp"
      },
      "execution_count": null,
      "outputs": []
    },
    {
      "cell_type": "code",
      "source": [
        "produktionskosten=pd.read_csv(path, sep=\";\")"
      ],
      "metadata": {
        "id": "NTSilRdI-_B5"
      },
      "execution_count": null,
      "outputs": []
    },
    {
      "cell_type": "code",
      "source": [
        "produktionskosten.tail()"
      ],
      "metadata": {
        "colab": {
          "base_uri": "https://localhost:8080/",
          "height": 204
        },
        "id": "fDodTt1S_E7V",
        "outputId": "bda6d904-0980-44fc-ef1c-6b666a8e2b1a"
      },
      "execution_count": null,
      "outputs": [
        {
          "output_type": "execute_result",
          "data": {
            "text/plain": [
              "   Produktionsstandort       Markt  Produktionskosten\n",
              "20         East London         USA                142\n",
              "21         East London  Südamerika                100\n",
              "22         East London      Europa                103\n",
              "23         East London       Asien                105\n",
              "24         East London      Afrika                 71"
            ],
            "text/html": [
              "\n",
              "  <div id=\"df-dc0ee06c-ea8c-43a4-ac69-528d9a2fd2cc\" class=\"colab-df-container\">\n",
              "    <div>\n",
              "<style scoped>\n",
              "    .dataframe tbody tr th:only-of-type {\n",
              "        vertical-align: middle;\n",
              "    }\n",
              "\n",
              "    .dataframe tbody tr th {\n",
              "        vertical-align: top;\n",
              "    }\n",
              "\n",
              "    .dataframe thead th {\n",
              "        text-align: right;\n",
              "    }\n",
              "</style>\n",
              "<table border=\"1\" class=\"dataframe\">\n",
              "  <thead>\n",
              "    <tr style=\"text-align: right;\">\n",
              "      <th></th>\n",
              "      <th>Produktionsstandort</th>\n",
              "      <th>Markt</th>\n",
              "      <th>Produktionskosten</th>\n",
              "    </tr>\n",
              "  </thead>\n",
              "  <tbody>\n",
              "    <tr>\n",
              "      <th>20</th>\n",
              "      <td>East London</td>\n",
              "      <td>USA</td>\n",
              "      <td>142</td>\n",
              "    </tr>\n",
              "    <tr>\n",
              "      <th>21</th>\n",
              "      <td>East London</td>\n",
              "      <td>Südamerika</td>\n",
              "      <td>100</td>\n",
              "    </tr>\n",
              "    <tr>\n",
              "      <th>22</th>\n",
              "      <td>East London</td>\n",
              "      <td>Europa</td>\n",
              "      <td>103</td>\n",
              "    </tr>\n",
              "    <tr>\n",
              "      <th>23</th>\n",
              "      <td>East London</td>\n",
              "      <td>Asien</td>\n",
              "      <td>105</td>\n",
              "    </tr>\n",
              "    <tr>\n",
              "      <th>24</th>\n",
              "      <td>East London</td>\n",
              "      <td>Afrika</td>\n",
              "      <td>71</td>\n",
              "    </tr>\n",
              "  </tbody>\n",
              "</table>\n",
              "</div>\n",
              "    <div class=\"colab-df-buttons\">\n",
              "\n",
              "  <div class=\"colab-df-container\">\n",
              "    <button class=\"colab-df-convert\" onclick=\"convertToInteractive('df-dc0ee06c-ea8c-43a4-ac69-528d9a2fd2cc')\"\n",
              "            title=\"Convert this dataframe to an interactive table.\"\n",
              "            style=\"display:none;\">\n",
              "\n",
              "  <svg xmlns=\"http://www.w3.org/2000/svg\" height=\"24px\" viewBox=\"0 -960 960 960\">\n",
              "    <path d=\"M120-120v-720h720v720H120Zm60-500h600v-160H180v160Zm220 220h160v-160H400v160Zm0 220h160v-160H400v160ZM180-400h160v-160H180v160Zm440 0h160v-160H620v160ZM180-180h160v-160H180v160Zm440 0h160v-160H620v160Z\"/>\n",
              "  </svg>\n",
              "    </button>\n",
              "\n",
              "  <style>\n",
              "    .colab-df-container {\n",
              "      display:flex;\n",
              "      gap: 12px;\n",
              "    }\n",
              "\n",
              "    .colab-df-convert {\n",
              "      background-color: #E8F0FE;\n",
              "      border: none;\n",
              "      border-radius: 50%;\n",
              "      cursor: pointer;\n",
              "      display: none;\n",
              "      fill: #1967D2;\n",
              "      height: 32px;\n",
              "      padding: 0 0 0 0;\n",
              "      width: 32px;\n",
              "    }\n",
              "\n",
              "    .colab-df-convert:hover {\n",
              "      background-color: #E2EBFA;\n",
              "      box-shadow: 0px 1px 2px rgba(60, 64, 67, 0.3), 0px 1px 3px 1px rgba(60, 64, 67, 0.15);\n",
              "      fill: #174EA6;\n",
              "    }\n",
              "\n",
              "    .colab-df-buttons div {\n",
              "      margin-bottom: 4px;\n",
              "    }\n",
              "\n",
              "    [theme=dark] .colab-df-convert {\n",
              "      background-color: #3B4455;\n",
              "      fill: #D2E3FC;\n",
              "    }\n",
              "\n",
              "    [theme=dark] .colab-df-convert:hover {\n",
              "      background-color: #434B5C;\n",
              "      box-shadow: 0px 1px 3px 1px rgba(0, 0, 0, 0.15);\n",
              "      filter: drop-shadow(0px 1px 2px rgba(0, 0, 0, 0.3));\n",
              "      fill: #FFFFFF;\n",
              "    }\n",
              "  </style>\n",
              "\n",
              "    <script>\n",
              "      const buttonEl =\n",
              "        document.querySelector('#df-dc0ee06c-ea8c-43a4-ac69-528d9a2fd2cc button.colab-df-convert');\n",
              "      buttonEl.style.display =\n",
              "        google.colab.kernel.accessAllowed ? 'block' : 'none';\n",
              "\n",
              "      async function convertToInteractive(key) {\n",
              "        const element = document.querySelector('#df-dc0ee06c-ea8c-43a4-ac69-528d9a2fd2cc');\n",
              "        const dataTable =\n",
              "          await google.colab.kernel.invokeFunction('convertToInteractive',\n",
              "                                                    [key], {});\n",
              "        if (!dataTable) return;\n",
              "\n",
              "        const docLinkHtml = 'Like what you see? Visit the ' +\n",
              "          '<a target=\"_blank\" href=https://colab.research.google.com/notebooks/data_table.ipynb>data table notebook</a>'\n",
              "          + ' to learn more about interactive tables.';\n",
              "        element.innerHTML = '';\n",
              "        dataTable['output_type'] = 'display_data';\n",
              "        await google.colab.output.renderOutput(dataTable, element);\n",
              "        const docLink = document.createElement('div');\n",
              "        docLink.innerHTML = docLinkHtml;\n",
              "        element.appendChild(docLink);\n",
              "      }\n",
              "    </script>\n",
              "  </div>\n",
              "\n",
              "\n",
              "<div id=\"df-42824fa1-80c0-4c98-884e-919e16900922\">\n",
              "  <button class=\"colab-df-quickchart\" onclick=\"quickchart('df-42824fa1-80c0-4c98-884e-919e16900922')\"\n",
              "            title=\"Suggest charts\"\n",
              "            style=\"display:none;\">\n",
              "\n",
              "<svg xmlns=\"http://www.w3.org/2000/svg\" height=\"24px\"viewBox=\"0 0 24 24\"\n",
              "     width=\"24px\">\n",
              "    <g>\n",
              "        <path d=\"M19 3H5c-1.1 0-2 .9-2 2v14c0 1.1.9 2 2 2h14c1.1 0 2-.9 2-2V5c0-1.1-.9-2-2-2zM9 17H7v-7h2v7zm4 0h-2V7h2v10zm4 0h-2v-4h2v4z\"/>\n",
              "    </g>\n",
              "</svg>\n",
              "  </button>\n",
              "\n",
              "<style>\n",
              "  .colab-df-quickchart {\n",
              "      --bg-color: #E8F0FE;\n",
              "      --fill-color: #1967D2;\n",
              "      --hover-bg-color: #E2EBFA;\n",
              "      --hover-fill-color: #174EA6;\n",
              "      --disabled-fill-color: #AAA;\n",
              "      --disabled-bg-color: #DDD;\n",
              "  }\n",
              "\n",
              "  [theme=dark] .colab-df-quickchart {\n",
              "      --bg-color: #3B4455;\n",
              "      --fill-color: #D2E3FC;\n",
              "      --hover-bg-color: #434B5C;\n",
              "      --hover-fill-color: #FFFFFF;\n",
              "      --disabled-bg-color: #3B4455;\n",
              "      --disabled-fill-color: #666;\n",
              "  }\n",
              "\n",
              "  .colab-df-quickchart {\n",
              "    background-color: var(--bg-color);\n",
              "    border: none;\n",
              "    border-radius: 50%;\n",
              "    cursor: pointer;\n",
              "    display: none;\n",
              "    fill: var(--fill-color);\n",
              "    height: 32px;\n",
              "    padding: 0;\n",
              "    width: 32px;\n",
              "  }\n",
              "\n",
              "  .colab-df-quickchart:hover {\n",
              "    background-color: var(--hover-bg-color);\n",
              "    box-shadow: 0 1px 2px rgba(60, 64, 67, 0.3), 0 1px 3px 1px rgba(60, 64, 67, 0.15);\n",
              "    fill: var(--button-hover-fill-color);\n",
              "  }\n",
              "\n",
              "  .colab-df-quickchart-complete:disabled,\n",
              "  .colab-df-quickchart-complete:disabled:hover {\n",
              "    background-color: var(--disabled-bg-color);\n",
              "    fill: var(--disabled-fill-color);\n",
              "    box-shadow: none;\n",
              "  }\n",
              "\n",
              "  .colab-df-spinner {\n",
              "    border: 2px solid var(--fill-color);\n",
              "    border-color: transparent;\n",
              "    border-bottom-color: var(--fill-color);\n",
              "    animation:\n",
              "      spin 1s steps(1) infinite;\n",
              "  }\n",
              "\n",
              "  @keyframes spin {\n",
              "    0% {\n",
              "      border-color: transparent;\n",
              "      border-bottom-color: var(--fill-color);\n",
              "      border-left-color: var(--fill-color);\n",
              "    }\n",
              "    20% {\n",
              "      border-color: transparent;\n",
              "      border-left-color: var(--fill-color);\n",
              "      border-top-color: var(--fill-color);\n",
              "    }\n",
              "    30% {\n",
              "      border-color: transparent;\n",
              "      border-left-color: var(--fill-color);\n",
              "      border-top-color: var(--fill-color);\n",
              "      border-right-color: var(--fill-color);\n",
              "    }\n",
              "    40% {\n",
              "      border-color: transparent;\n",
              "      border-right-color: var(--fill-color);\n",
              "      border-top-color: var(--fill-color);\n",
              "    }\n",
              "    60% {\n",
              "      border-color: transparent;\n",
              "      border-right-color: var(--fill-color);\n",
              "    }\n",
              "    80% {\n",
              "      border-color: transparent;\n",
              "      border-right-color: var(--fill-color);\n",
              "      border-bottom-color: var(--fill-color);\n",
              "    }\n",
              "    90% {\n",
              "      border-color: transparent;\n",
              "      border-bottom-color: var(--fill-color);\n",
              "    }\n",
              "  }\n",
              "</style>\n",
              "\n",
              "  <script>\n",
              "    async function quickchart(key) {\n",
              "      const quickchartButtonEl =\n",
              "        document.querySelector('#' + key + ' button');\n",
              "      quickchartButtonEl.disabled = true;  // To prevent multiple clicks.\n",
              "      quickchartButtonEl.classList.add('colab-df-spinner');\n",
              "      try {\n",
              "        const charts = await google.colab.kernel.invokeFunction(\n",
              "            'suggestCharts', [key], {});\n",
              "      } catch (error) {\n",
              "        console.error('Error during call to suggestCharts:', error);\n",
              "      }\n",
              "      quickchartButtonEl.classList.remove('colab-df-spinner');\n",
              "      quickchartButtonEl.classList.add('colab-df-quickchart-complete');\n",
              "    }\n",
              "    (() => {\n",
              "      let quickchartButtonEl =\n",
              "        document.querySelector('#df-42824fa1-80c0-4c98-884e-919e16900922 button');\n",
              "      quickchartButtonEl.style.display =\n",
              "        google.colab.kernel.accessAllowed ? 'block' : 'none';\n",
              "    })();\n",
              "  </script>\n",
              "</div>\n",
              "\n",
              "    </div>\n",
              "  </div>\n"
            ],
            "application/vnd.google.colaboratory.intrinsic+json": {
              "type": "dataframe",
              "summary": "{\n  \"name\": \"produktionskosten\",\n  \"rows\": 5,\n  \"fields\": [\n    {\n      \"column\": \"Produktionsstandort\",\n      \"properties\": {\n        \"dtype\": \"category\",\n        \"num_unique_values\": 1,\n        \"samples\": [\n          \"East London\"\n        ],\n        \"semantic_type\": \"\",\n        \"description\": \"\"\n      }\n    },\n    {\n      \"column\": \"Markt\",\n      \"properties\": {\n        \"dtype\": \"string\",\n        \"num_unique_values\": 5,\n        \"samples\": [\n          \"S\\u00fcdamerika\"\n        ],\n        \"semantic_type\": \"\",\n        \"description\": \"\"\n      }\n    },\n    {\n      \"column\": \"Produktionskosten\",\n      \"properties\": {\n        \"dtype\": \"number\",\n        \"std\": 25,\n        \"min\": 71,\n        \"max\": 142,\n        \"num_unique_values\": 5,\n        \"samples\": [\n          100\n        ],\n        \"semantic_type\": \"\",\n        \"description\": \"\"\n      }\n    }\n  ]\n}"
            }
          },
          "metadata": {},
          "execution_count": 10
        }
      ]
    },
    {
      "cell_type": "code",
      "source": [
        "path = f\"{folder}/NetworkDesign_Nachfrage.csv\""
      ],
      "metadata": {
        "id": "oWQlu7ZrBTml"
      },
      "execution_count": null,
      "outputs": []
    },
    {
      "cell_type": "code",
      "source": [
        "nachfrage=pd.read_csv(path, sep=\";\")"
      ],
      "metadata": {
        "id": "4T8qHmc0_IfT"
      },
      "execution_count": null,
      "outputs": []
    },
    {
      "cell_type": "code",
      "source": [
        "nachfrage.head()"
      ],
      "metadata": {
        "colab": {
          "base_uri": "https://localhost:8080/",
          "height": 204
        },
        "id": "p3iE2Gsa_PN6",
        "outputId": "b1394eb6-7c2d-4b80-a96f-a8c419457404"
      },
      "execution_count": null,
      "outputs": [
        {
          "output_type": "execute_result",
          "data": {
            "text/plain": [
              "        Markt  Nachfragemenge\n",
              "0         USA              12\n",
              "1  Südamerika               8\n",
              "2      Europa              14\n",
              "3       Asien              16\n",
              "4      Afrika               7"
            ],
            "text/html": [
              "\n",
              "  <div id=\"df-7969e722-9a02-4427-9285-a86e5a3d4c43\" class=\"colab-df-container\">\n",
              "    <div>\n",
              "<style scoped>\n",
              "    .dataframe tbody tr th:only-of-type {\n",
              "        vertical-align: middle;\n",
              "    }\n",
              "\n",
              "    .dataframe tbody tr th {\n",
              "        vertical-align: top;\n",
              "    }\n",
              "\n",
              "    .dataframe thead th {\n",
              "        text-align: right;\n",
              "    }\n",
              "</style>\n",
              "<table border=\"1\" class=\"dataframe\">\n",
              "  <thead>\n",
              "    <tr style=\"text-align: right;\">\n",
              "      <th></th>\n",
              "      <th>Markt</th>\n",
              "      <th>Nachfragemenge</th>\n",
              "    </tr>\n",
              "  </thead>\n",
              "  <tbody>\n",
              "    <tr>\n",
              "      <th>0</th>\n",
              "      <td>USA</td>\n",
              "      <td>12</td>\n",
              "    </tr>\n",
              "    <tr>\n",
              "      <th>1</th>\n",
              "      <td>Südamerika</td>\n",
              "      <td>8</td>\n",
              "    </tr>\n",
              "    <tr>\n",
              "      <th>2</th>\n",
              "      <td>Europa</td>\n",
              "      <td>14</td>\n",
              "    </tr>\n",
              "    <tr>\n",
              "      <th>3</th>\n",
              "      <td>Asien</td>\n",
              "      <td>16</td>\n",
              "    </tr>\n",
              "    <tr>\n",
              "      <th>4</th>\n",
              "      <td>Afrika</td>\n",
              "      <td>7</td>\n",
              "    </tr>\n",
              "  </tbody>\n",
              "</table>\n",
              "</div>\n",
              "    <div class=\"colab-df-buttons\">\n",
              "\n",
              "  <div class=\"colab-df-container\">\n",
              "    <button class=\"colab-df-convert\" onclick=\"convertToInteractive('df-7969e722-9a02-4427-9285-a86e5a3d4c43')\"\n",
              "            title=\"Convert this dataframe to an interactive table.\"\n",
              "            style=\"display:none;\">\n",
              "\n",
              "  <svg xmlns=\"http://www.w3.org/2000/svg\" height=\"24px\" viewBox=\"0 -960 960 960\">\n",
              "    <path d=\"M120-120v-720h720v720H120Zm60-500h600v-160H180v160Zm220 220h160v-160H400v160Zm0 220h160v-160H400v160ZM180-400h160v-160H180v160Zm440 0h160v-160H620v160ZM180-180h160v-160H180v160Zm440 0h160v-160H620v160Z\"/>\n",
              "  </svg>\n",
              "    </button>\n",
              "\n",
              "  <style>\n",
              "    .colab-df-container {\n",
              "      display:flex;\n",
              "      gap: 12px;\n",
              "    }\n",
              "\n",
              "    .colab-df-convert {\n",
              "      background-color: #E8F0FE;\n",
              "      border: none;\n",
              "      border-radius: 50%;\n",
              "      cursor: pointer;\n",
              "      display: none;\n",
              "      fill: #1967D2;\n",
              "      height: 32px;\n",
              "      padding: 0 0 0 0;\n",
              "      width: 32px;\n",
              "    }\n",
              "\n",
              "    .colab-df-convert:hover {\n",
              "      background-color: #E2EBFA;\n",
              "      box-shadow: 0px 1px 2px rgba(60, 64, 67, 0.3), 0px 1px 3px 1px rgba(60, 64, 67, 0.15);\n",
              "      fill: #174EA6;\n",
              "    }\n",
              "\n",
              "    .colab-df-buttons div {\n",
              "      margin-bottom: 4px;\n",
              "    }\n",
              "\n",
              "    [theme=dark] .colab-df-convert {\n",
              "      background-color: #3B4455;\n",
              "      fill: #D2E3FC;\n",
              "    }\n",
              "\n",
              "    [theme=dark] .colab-df-convert:hover {\n",
              "      background-color: #434B5C;\n",
              "      box-shadow: 0px 1px 3px 1px rgba(0, 0, 0, 0.15);\n",
              "      filter: drop-shadow(0px 1px 2px rgba(0, 0, 0, 0.3));\n",
              "      fill: #FFFFFF;\n",
              "    }\n",
              "  </style>\n",
              "\n",
              "    <script>\n",
              "      const buttonEl =\n",
              "        document.querySelector('#df-7969e722-9a02-4427-9285-a86e5a3d4c43 button.colab-df-convert');\n",
              "      buttonEl.style.display =\n",
              "        google.colab.kernel.accessAllowed ? 'block' : 'none';\n",
              "\n",
              "      async function convertToInteractive(key) {\n",
              "        const element = document.querySelector('#df-7969e722-9a02-4427-9285-a86e5a3d4c43');\n",
              "        const dataTable =\n",
              "          await google.colab.kernel.invokeFunction('convertToInteractive',\n",
              "                                                    [key], {});\n",
              "        if (!dataTable) return;\n",
              "\n",
              "        const docLinkHtml = 'Like what you see? Visit the ' +\n",
              "          '<a target=\"_blank\" href=https://colab.research.google.com/notebooks/data_table.ipynb>data table notebook</a>'\n",
              "          + ' to learn more about interactive tables.';\n",
              "        element.innerHTML = '';\n",
              "        dataTable['output_type'] = 'display_data';\n",
              "        await google.colab.output.renderOutput(dataTable, element);\n",
              "        const docLink = document.createElement('div');\n",
              "        docLink.innerHTML = docLinkHtml;\n",
              "        element.appendChild(docLink);\n",
              "      }\n",
              "    </script>\n",
              "  </div>\n",
              "\n",
              "\n",
              "<div id=\"df-46f06137-ba75-49ee-b2de-9219718444ff\">\n",
              "  <button class=\"colab-df-quickchart\" onclick=\"quickchart('df-46f06137-ba75-49ee-b2de-9219718444ff')\"\n",
              "            title=\"Suggest charts\"\n",
              "            style=\"display:none;\">\n",
              "\n",
              "<svg xmlns=\"http://www.w3.org/2000/svg\" height=\"24px\"viewBox=\"0 0 24 24\"\n",
              "     width=\"24px\">\n",
              "    <g>\n",
              "        <path d=\"M19 3H5c-1.1 0-2 .9-2 2v14c0 1.1.9 2 2 2h14c1.1 0 2-.9 2-2V5c0-1.1-.9-2-2-2zM9 17H7v-7h2v7zm4 0h-2V7h2v10zm4 0h-2v-4h2v4z\"/>\n",
              "    </g>\n",
              "</svg>\n",
              "  </button>\n",
              "\n",
              "<style>\n",
              "  .colab-df-quickchart {\n",
              "      --bg-color: #E8F0FE;\n",
              "      --fill-color: #1967D2;\n",
              "      --hover-bg-color: #E2EBFA;\n",
              "      --hover-fill-color: #174EA6;\n",
              "      --disabled-fill-color: #AAA;\n",
              "      --disabled-bg-color: #DDD;\n",
              "  }\n",
              "\n",
              "  [theme=dark] .colab-df-quickchart {\n",
              "      --bg-color: #3B4455;\n",
              "      --fill-color: #D2E3FC;\n",
              "      --hover-bg-color: #434B5C;\n",
              "      --hover-fill-color: #FFFFFF;\n",
              "      --disabled-bg-color: #3B4455;\n",
              "      --disabled-fill-color: #666;\n",
              "  }\n",
              "\n",
              "  .colab-df-quickchart {\n",
              "    background-color: var(--bg-color);\n",
              "    border: none;\n",
              "    border-radius: 50%;\n",
              "    cursor: pointer;\n",
              "    display: none;\n",
              "    fill: var(--fill-color);\n",
              "    height: 32px;\n",
              "    padding: 0;\n",
              "    width: 32px;\n",
              "  }\n",
              "\n",
              "  .colab-df-quickchart:hover {\n",
              "    background-color: var(--hover-bg-color);\n",
              "    box-shadow: 0 1px 2px rgba(60, 64, 67, 0.3), 0 1px 3px 1px rgba(60, 64, 67, 0.15);\n",
              "    fill: var(--button-hover-fill-color);\n",
              "  }\n",
              "\n",
              "  .colab-df-quickchart-complete:disabled,\n",
              "  .colab-df-quickchart-complete:disabled:hover {\n",
              "    background-color: var(--disabled-bg-color);\n",
              "    fill: var(--disabled-fill-color);\n",
              "    box-shadow: none;\n",
              "  }\n",
              "\n",
              "  .colab-df-spinner {\n",
              "    border: 2px solid var(--fill-color);\n",
              "    border-color: transparent;\n",
              "    border-bottom-color: var(--fill-color);\n",
              "    animation:\n",
              "      spin 1s steps(1) infinite;\n",
              "  }\n",
              "\n",
              "  @keyframes spin {\n",
              "    0% {\n",
              "      border-color: transparent;\n",
              "      border-bottom-color: var(--fill-color);\n",
              "      border-left-color: var(--fill-color);\n",
              "    }\n",
              "    20% {\n",
              "      border-color: transparent;\n",
              "      border-left-color: var(--fill-color);\n",
              "      border-top-color: var(--fill-color);\n",
              "    }\n",
              "    30% {\n",
              "      border-color: transparent;\n",
              "      border-left-color: var(--fill-color);\n",
              "      border-top-color: var(--fill-color);\n",
              "      border-right-color: var(--fill-color);\n",
              "    }\n",
              "    40% {\n",
              "      border-color: transparent;\n",
              "      border-right-color: var(--fill-color);\n",
              "      border-top-color: var(--fill-color);\n",
              "    }\n",
              "    60% {\n",
              "      border-color: transparent;\n",
              "      border-right-color: var(--fill-color);\n",
              "    }\n",
              "    80% {\n",
              "      border-color: transparent;\n",
              "      border-right-color: var(--fill-color);\n",
              "      border-bottom-color: var(--fill-color);\n",
              "    }\n",
              "    90% {\n",
              "      border-color: transparent;\n",
              "      border-bottom-color: var(--fill-color);\n",
              "    }\n",
              "  }\n",
              "</style>\n",
              "\n",
              "  <script>\n",
              "    async function quickchart(key) {\n",
              "      const quickchartButtonEl =\n",
              "        document.querySelector('#' + key + ' button');\n",
              "      quickchartButtonEl.disabled = true;  // To prevent multiple clicks.\n",
              "      quickchartButtonEl.classList.add('colab-df-spinner');\n",
              "      try {\n",
              "        const charts = await google.colab.kernel.invokeFunction(\n",
              "            'suggestCharts', [key], {});\n",
              "      } catch (error) {\n",
              "        console.error('Error during call to suggestCharts:', error);\n",
              "      }\n",
              "      quickchartButtonEl.classList.remove('colab-df-spinner');\n",
              "      quickchartButtonEl.classList.add('colab-df-quickchart-complete');\n",
              "    }\n",
              "    (() => {\n",
              "      let quickchartButtonEl =\n",
              "        document.querySelector('#df-46f06137-ba75-49ee-b2de-9219718444ff button');\n",
              "      quickchartButtonEl.style.display =\n",
              "        google.colab.kernel.accessAllowed ? 'block' : 'none';\n",
              "    })();\n",
              "  </script>\n",
              "</div>\n",
              "\n",
              "    </div>\n",
              "  </div>\n"
            ],
            "application/vnd.google.colaboratory.intrinsic+json": {
              "type": "dataframe",
              "variable_name": "nachfrage",
              "summary": "{\n  \"name\": \"nachfrage\",\n  \"rows\": 5,\n  \"fields\": [\n    {\n      \"column\": \"Markt\",\n      \"properties\": {\n        \"dtype\": \"string\",\n        \"num_unique_values\": 5,\n        \"samples\": [\n          \"S\\u00fcdamerika\",\n          \"Afrika\",\n          \"Europa\"\n        ],\n        \"semantic_type\": \"\",\n        \"description\": \"\"\n      }\n    },\n    {\n      \"column\": \"Nachfragemenge\",\n      \"properties\": {\n        \"dtype\": \"number\",\n        \"std\": 3,\n        \"min\": 7,\n        \"max\": 16,\n        \"num_unique_values\": 5,\n        \"samples\": [\n          8,\n          7,\n          14\n        ],\n        \"semantic_type\": \"\",\n        \"description\": \"\"\n      }\n    }\n  ]\n}"
            }
          },
          "metadata": {},
          "execution_count": 13
        }
      ]
    },
    {
      "cell_type": "code",
      "source": [
        "path = f\"{folder}/NetworkDesign_Beschaffungskosten.csv\""
      ],
      "metadata": {
        "id": "-bNZFR_OBYB6"
      },
      "execution_count": null,
      "outputs": []
    },
    {
      "cell_type": "code",
      "source": [
        "beschaffung = pd.read_csv(path, sep=\";\")"
      ],
      "metadata": {
        "id": "2LaSaTIWY5g6"
      },
      "execution_count": null,
      "outputs": []
    },
    {
      "cell_type": "code",
      "source": [
        "beschaffung.head()"
      ],
      "metadata": {
        "colab": {
          "base_uri": "https://localhost:8080/",
          "height": 204
        },
        "id": "Bphx5fMmZTVG",
        "outputId": "8dd31f9f-8186-4659-a4d7-80606735191f"
      },
      "execution_count": null,
      "outputs": [
        {
          "output_type": "execute_result",
          "data": {
            "text/plain": [
              "  Beschaffungsmarkt     Vorprodukt  Beschaffungskosten  Kapazitäten\n",
              "0            Afrika        Flasche                  10           60\n",
              "1            Afrika  Vitaminwasser                  20           30\n",
              "2             Asien        Flasche                  12          100\n",
              "3             Asien  Vitaminwasser                  15           40\n",
              "4            Europa        Flasche                  15           60"
            ],
            "text/html": [
              "\n",
              "  <div id=\"df-ac2fd61a-c526-480b-8103-547648a60f03\" class=\"colab-df-container\">\n",
              "    <div>\n",
              "<style scoped>\n",
              "    .dataframe tbody tr th:only-of-type {\n",
              "        vertical-align: middle;\n",
              "    }\n",
              "\n",
              "    .dataframe tbody tr th {\n",
              "        vertical-align: top;\n",
              "    }\n",
              "\n",
              "    .dataframe thead th {\n",
              "        text-align: right;\n",
              "    }\n",
              "</style>\n",
              "<table border=\"1\" class=\"dataframe\">\n",
              "  <thead>\n",
              "    <tr style=\"text-align: right;\">\n",
              "      <th></th>\n",
              "      <th>Beschaffungsmarkt</th>\n",
              "      <th>Vorprodukt</th>\n",
              "      <th>Beschaffungskosten</th>\n",
              "      <th>Kapazitäten</th>\n",
              "    </tr>\n",
              "  </thead>\n",
              "  <tbody>\n",
              "    <tr>\n",
              "      <th>0</th>\n",
              "      <td>Afrika</td>\n",
              "      <td>Flasche</td>\n",
              "      <td>10</td>\n",
              "      <td>60</td>\n",
              "    </tr>\n",
              "    <tr>\n",
              "      <th>1</th>\n",
              "      <td>Afrika</td>\n",
              "      <td>Vitaminwasser</td>\n",
              "      <td>20</td>\n",
              "      <td>30</td>\n",
              "    </tr>\n",
              "    <tr>\n",
              "      <th>2</th>\n",
              "      <td>Asien</td>\n",
              "      <td>Flasche</td>\n",
              "      <td>12</td>\n",
              "      <td>100</td>\n",
              "    </tr>\n",
              "    <tr>\n",
              "      <th>3</th>\n",
              "      <td>Asien</td>\n",
              "      <td>Vitaminwasser</td>\n",
              "      <td>15</td>\n",
              "      <td>40</td>\n",
              "    </tr>\n",
              "    <tr>\n",
              "      <th>4</th>\n",
              "      <td>Europa</td>\n",
              "      <td>Flasche</td>\n",
              "      <td>15</td>\n",
              "      <td>60</td>\n",
              "    </tr>\n",
              "  </tbody>\n",
              "</table>\n",
              "</div>\n",
              "    <div class=\"colab-df-buttons\">\n",
              "\n",
              "  <div class=\"colab-df-container\">\n",
              "    <button class=\"colab-df-convert\" onclick=\"convertToInteractive('df-ac2fd61a-c526-480b-8103-547648a60f03')\"\n",
              "            title=\"Convert this dataframe to an interactive table.\"\n",
              "            style=\"display:none;\">\n",
              "\n",
              "  <svg xmlns=\"http://www.w3.org/2000/svg\" height=\"24px\" viewBox=\"0 -960 960 960\">\n",
              "    <path d=\"M120-120v-720h720v720H120Zm60-500h600v-160H180v160Zm220 220h160v-160H400v160Zm0 220h160v-160H400v160ZM180-400h160v-160H180v160Zm440 0h160v-160H620v160ZM180-180h160v-160H180v160Zm440 0h160v-160H620v160Z\"/>\n",
              "  </svg>\n",
              "    </button>\n",
              "\n",
              "  <style>\n",
              "    .colab-df-container {\n",
              "      display:flex;\n",
              "      gap: 12px;\n",
              "    }\n",
              "\n",
              "    .colab-df-convert {\n",
              "      background-color: #E8F0FE;\n",
              "      border: none;\n",
              "      border-radius: 50%;\n",
              "      cursor: pointer;\n",
              "      display: none;\n",
              "      fill: #1967D2;\n",
              "      height: 32px;\n",
              "      padding: 0 0 0 0;\n",
              "      width: 32px;\n",
              "    }\n",
              "\n",
              "    .colab-df-convert:hover {\n",
              "      background-color: #E2EBFA;\n",
              "      box-shadow: 0px 1px 2px rgba(60, 64, 67, 0.3), 0px 1px 3px 1px rgba(60, 64, 67, 0.15);\n",
              "      fill: #174EA6;\n",
              "    }\n",
              "\n",
              "    .colab-df-buttons div {\n",
              "      margin-bottom: 4px;\n",
              "    }\n",
              "\n",
              "    [theme=dark] .colab-df-convert {\n",
              "      background-color: #3B4455;\n",
              "      fill: #D2E3FC;\n",
              "    }\n",
              "\n",
              "    [theme=dark] .colab-df-convert:hover {\n",
              "      background-color: #434B5C;\n",
              "      box-shadow: 0px 1px 3px 1px rgba(0, 0, 0, 0.15);\n",
              "      filter: drop-shadow(0px 1px 2px rgba(0, 0, 0, 0.3));\n",
              "      fill: #FFFFFF;\n",
              "    }\n",
              "  </style>\n",
              "\n",
              "    <script>\n",
              "      const buttonEl =\n",
              "        document.querySelector('#df-ac2fd61a-c526-480b-8103-547648a60f03 button.colab-df-convert');\n",
              "      buttonEl.style.display =\n",
              "        google.colab.kernel.accessAllowed ? 'block' : 'none';\n",
              "\n",
              "      async function convertToInteractive(key) {\n",
              "        const element = document.querySelector('#df-ac2fd61a-c526-480b-8103-547648a60f03');\n",
              "        const dataTable =\n",
              "          await google.colab.kernel.invokeFunction('convertToInteractive',\n",
              "                                                    [key], {});\n",
              "        if (!dataTable) return;\n",
              "\n",
              "        const docLinkHtml = 'Like what you see? Visit the ' +\n",
              "          '<a target=\"_blank\" href=https://colab.research.google.com/notebooks/data_table.ipynb>data table notebook</a>'\n",
              "          + ' to learn more about interactive tables.';\n",
              "        element.innerHTML = '';\n",
              "        dataTable['output_type'] = 'display_data';\n",
              "        await google.colab.output.renderOutput(dataTable, element);\n",
              "        const docLink = document.createElement('div');\n",
              "        docLink.innerHTML = docLinkHtml;\n",
              "        element.appendChild(docLink);\n",
              "      }\n",
              "    </script>\n",
              "  </div>\n",
              "\n",
              "\n",
              "<div id=\"df-a2de6d56-9095-4b7b-9bf1-ea6665a8e01f\">\n",
              "  <button class=\"colab-df-quickchart\" onclick=\"quickchart('df-a2de6d56-9095-4b7b-9bf1-ea6665a8e01f')\"\n",
              "            title=\"Suggest charts\"\n",
              "            style=\"display:none;\">\n",
              "\n",
              "<svg xmlns=\"http://www.w3.org/2000/svg\" height=\"24px\"viewBox=\"0 0 24 24\"\n",
              "     width=\"24px\">\n",
              "    <g>\n",
              "        <path d=\"M19 3H5c-1.1 0-2 .9-2 2v14c0 1.1.9 2 2 2h14c1.1 0 2-.9 2-2V5c0-1.1-.9-2-2-2zM9 17H7v-7h2v7zm4 0h-2V7h2v10zm4 0h-2v-4h2v4z\"/>\n",
              "    </g>\n",
              "</svg>\n",
              "  </button>\n",
              "\n",
              "<style>\n",
              "  .colab-df-quickchart {\n",
              "      --bg-color: #E8F0FE;\n",
              "      --fill-color: #1967D2;\n",
              "      --hover-bg-color: #E2EBFA;\n",
              "      --hover-fill-color: #174EA6;\n",
              "      --disabled-fill-color: #AAA;\n",
              "      --disabled-bg-color: #DDD;\n",
              "  }\n",
              "\n",
              "  [theme=dark] .colab-df-quickchart {\n",
              "      --bg-color: #3B4455;\n",
              "      --fill-color: #D2E3FC;\n",
              "      --hover-bg-color: #434B5C;\n",
              "      --hover-fill-color: #FFFFFF;\n",
              "      --disabled-bg-color: #3B4455;\n",
              "      --disabled-fill-color: #666;\n",
              "  }\n",
              "\n",
              "  .colab-df-quickchart {\n",
              "    background-color: var(--bg-color);\n",
              "    border: none;\n",
              "    border-radius: 50%;\n",
              "    cursor: pointer;\n",
              "    display: none;\n",
              "    fill: var(--fill-color);\n",
              "    height: 32px;\n",
              "    padding: 0;\n",
              "    width: 32px;\n",
              "  }\n",
              "\n",
              "  .colab-df-quickchart:hover {\n",
              "    background-color: var(--hover-bg-color);\n",
              "    box-shadow: 0 1px 2px rgba(60, 64, 67, 0.3), 0 1px 3px 1px rgba(60, 64, 67, 0.15);\n",
              "    fill: var(--button-hover-fill-color);\n",
              "  }\n",
              "\n",
              "  .colab-df-quickchart-complete:disabled,\n",
              "  .colab-df-quickchart-complete:disabled:hover {\n",
              "    background-color: var(--disabled-bg-color);\n",
              "    fill: var(--disabled-fill-color);\n",
              "    box-shadow: none;\n",
              "  }\n",
              "\n",
              "  .colab-df-spinner {\n",
              "    border: 2px solid var(--fill-color);\n",
              "    border-color: transparent;\n",
              "    border-bottom-color: var(--fill-color);\n",
              "    animation:\n",
              "      spin 1s steps(1) infinite;\n",
              "  }\n",
              "\n",
              "  @keyframes spin {\n",
              "    0% {\n",
              "      border-color: transparent;\n",
              "      border-bottom-color: var(--fill-color);\n",
              "      border-left-color: var(--fill-color);\n",
              "    }\n",
              "    20% {\n",
              "      border-color: transparent;\n",
              "      border-left-color: var(--fill-color);\n",
              "      border-top-color: var(--fill-color);\n",
              "    }\n",
              "    30% {\n",
              "      border-color: transparent;\n",
              "      border-left-color: var(--fill-color);\n",
              "      border-top-color: var(--fill-color);\n",
              "      border-right-color: var(--fill-color);\n",
              "    }\n",
              "    40% {\n",
              "      border-color: transparent;\n",
              "      border-right-color: var(--fill-color);\n",
              "      border-top-color: var(--fill-color);\n",
              "    }\n",
              "    60% {\n",
              "      border-color: transparent;\n",
              "      border-right-color: var(--fill-color);\n",
              "    }\n",
              "    80% {\n",
              "      border-color: transparent;\n",
              "      border-right-color: var(--fill-color);\n",
              "      border-bottom-color: var(--fill-color);\n",
              "    }\n",
              "    90% {\n",
              "      border-color: transparent;\n",
              "      border-bottom-color: var(--fill-color);\n",
              "    }\n",
              "  }\n",
              "</style>\n",
              "\n",
              "  <script>\n",
              "    async function quickchart(key) {\n",
              "      const quickchartButtonEl =\n",
              "        document.querySelector('#' + key + ' button');\n",
              "      quickchartButtonEl.disabled = true;  // To prevent multiple clicks.\n",
              "      quickchartButtonEl.classList.add('colab-df-spinner');\n",
              "      try {\n",
              "        const charts = await google.colab.kernel.invokeFunction(\n",
              "            'suggestCharts', [key], {});\n",
              "      } catch (error) {\n",
              "        console.error('Error during call to suggestCharts:', error);\n",
              "      }\n",
              "      quickchartButtonEl.classList.remove('colab-df-spinner');\n",
              "      quickchartButtonEl.classList.add('colab-df-quickchart-complete');\n",
              "    }\n",
              "    (() => {\n",
              "      let quickchartButtonEl =\n",
              "        document.querySelector('#df-a2de6d56-9095-4b7b-9bf1-ea6665a8e01f button');\n",
              "      quickchartButtonEl.style.display =\n",
              "        google.colab.kernel.accessAllowed ? 'block' : 'none';\n",
              "    })();\n",
              "  </script>\n",
              "</div>\n",
              "\n",
              "    </div>\n",
              "  </div>\n"
            ],
            "application/vnd.google.colaboratory.intrinsic+json": {
              "type": "dataframe",
              "variable_name": "beschaffung",
              "summary": "{\n  \"name\": \"beschaffung\",\n  \"rows\": 10,\n  \"fields\": [\n    {\n      \"column\": \"Beschaffungsmarkt\",\n      \"properties\": {\n        \"dtype\": \"string\",\n        \"num_unique_values\": 5,\n        \"samples\": [\n          \"Asien\",\n          \"USA\",\n          \"Europa\"\n        ],\n        \"semantic_type\": \"\",\n        \"description\": \"\"\n      }\n    },\n    {\n      \"column\": \"Vorprodukt\",\n      \"properties\": {\n        \"dtype\": \"category\",\n        \"num_unique_values\": 2,\n        \"samples\": [\n          \"Vitaminwasser\",\n          \"Flasche\"\n        ],\n        \"semantic_type\": \"\",\n        \"description\": \"\"\n      }\n    },\n    {\n      \"column\": \"Beschaffungskosten\",\n      \"properties\": {\n        \"dtype\": \"number\",\n        \"std\": 4,\n        \"min\": 6,\n        \"max\": 20,\n        \"num_unique_values\": 7,\n        \"samples\": [\n          10,\n          20\n        ],\n        \"semantic_type\": \"\",\n        \"description\": \"\"\n      }\n    },\n    {\n      \"column\": \"Kapazit\\u00e4ten\",\n      \"properties\": {\n        \"dtype\": \"number\",\n        \"std\": 21,\n        \"min\": 30,\n        \"max\": 100,\n        \"num_unique_values\": 6,\n        \"samples\": [\n          60,\n          30\n        ],\n        \"semantic_type\": \"\",\n        \"description\": \"\"\n      }\n    }\n  ]\n}"
            }
          },
          "metadata": {},
          "execution_count": 16
        }
      ]
    },
    {
      "cell_type": "markdown",
      "source": [
        "## Optimierungsmodell"
      ],
      "metadata": {
        "id": "GNtrQJuhvBu7"
      }
    },
    {
      "cell_type": "code",
      "source": [
        "scip = Model()"
      ],
      "metadata": {
        "id": "SGhandW5vA5c"
      },
      "execution_count": null,
      "outputs": []
    },
    {
      "cell_type": "markdown",
      "metadata": {
        "id": "798a67ee"
      },
      "source": [
        "## Indexmengen"
      ]
    },
    {
      "cell_type": "code",
      "source": [
        "I = produktionskosten[\"Produktionsstandort\"].unique().tolist() # Menge der Produktionsstandorte"
      ],
      "metadata": {
        "id": "goOwHnFj_ofs"
      },
      "execution_count": null,
      "outputs": []
    },
    {
      "cell_type": "code",
      "execution_count": null,
      "metadata": {
        "id": "f9e0fd6f"
      },
      "outputs": [],
      "source": [
        "J = nachfrage[\"Markt\"].tolist() #Menge der Märkte"
      ]
    },
    {
      "cell_type": "code",
      "source": [
        "A = kapa[\"Ausbaustufe\"].unique().tolist() # Menge der Ausbaustufen an einem Standort"
      ],
      "metadata": {
        "id": "aN54t8Hg_eJX"
      },
      "execution_count": null,
      "outputs": []
    },
    {
      "cell_type": "code",
      "source": [
        "M = beschaffung[\"Beschaffungsmarkt\"].unique().tolist() # Menge der Beschaffungsmärkte"
      ],
      "metadata": {
        "id": "p2M0U5RcZWjz"
      },
      "execution_count": null,
      "outputs": []
    },
    {
      "cell_type": "code",
      "source": [
        "VP = beschaffung[\"Vorprodukt\"].unique().tolist() # Menge der Vorprodukte"
      ],
      "metadata": {
        "id": "ep4tx586Ze_f"
      },
      "execution_count": null,
      "outputs": []
    },
    {
      "cell_type": "markdown",
      "metadata": {
        "id": "d1f9cf18"
      },
      "source": [
        "## Entscheidungsvariablen"
      ]
    },
    {
      "cell_type": "code",
      "execution_count": null,
      "metadata": {
        "id": "afb847d3"
      },
      "outputs": [],
      "source": [
        "# Definition der Entscheidungsvariablen\n",
        "# X sind die Flussvariablen, d.h. Herstell- und Transportmenge von i nach j\n",
        "X={}\n",
        "for i in I:\n",
        "  for j in J:\n",
        "    X[i,j] = scip.addVar(vtype=\"C\", name=f\"{i},{j}\")"
      ]
    },
    {
      "cell_type": "code",
      "source": [
        "# Definition der Entscheidungsvariablen\n",
        "# Y sind die Strukturvariablen, d.h. ob und mit welchen Kapazitäten ein Standort ausgebaut wird\n",
        "Y={}\n",
        "for i in I:\n",
        "  for a in A:\n",
        "    Y[i,a] = scip.addVar(vtype=\"B\", name=f\"{i},{a}\")"
      ],
      "metadata": {
        "id": "VzC7MzIcAng7"
      },
      "execution_count": null,
      "outputs": []
    },
    {
      "cell_type": "code",
      "source": [
        "# Definition der Entscheidungsvariablen\n",
        "# Z: Fluss von Vorprodukten vom Beschaffungsmarkt in den Produktionsstandort\n",
        "Z={}\n",
        "for m in M:\n",
        "  for p in VP:\n",
        "    for i in I:\n",
        "      Z[m,p,i] = scip.addVar(vtype=\"C\", name=f\"{m},{p},{i}\")"
      ],
      "metadata": {
        "id": "Bsht13r6Z4QR"
      },
      "execution_count": null,
      "outputs": []
    },
    {
      "cell_type": "code",
      "source": [
        "print('Anzahl Entscheidungsvariablen =', len(scip.getVars()))"
      ],
      "metadata": {
        "colab": {
          "base_uri": "https://localhost:8080/"
        },
        "id": "hN6GY-5YBA9Y",
        "outputId": "997d375b-0ce2-4075-e8a4-7c189595289f"
      },
      "execution_count": null,
      "outputs": [
        {
          "output_type": "stream",
          "name": "stdout",
          "text": [
            "Anzahl Entscheidungsvariablen = 85\n"
          ]
        }
      ]
    },
    {
      "cell_type": "markdown",
      "metadata": {
        "id": "b99b4ca0"
      },
      "source": [
        "## Parameter"
      ]
    },
    {
      "cell_type": "code",
      "source": [
        "# Herstell- und Transportkosten\n",
        "produktionskosten.set_index([\"Produktionsstandort\",\"Markt\"], inplace=True)"
      ],
      "metadata": {
        "id": "LnaXtWEACWoU"
      },
      "execution_count": null,
      "outputs": []
    },
    {
      "cell_type": "code",
      "source": [
        "cp = produktionskosten.to_dict(\"dict\")[\"Produktionskosten\"]"
      ],
      "metadata": {
        "id": "jYH7_PMTCmqw"
      },
      "execution_count": null,
      "outputs": []
    },
    {
      "cell_type": "code",
      "source": [
        "cp"
      ],
      "metadata": {
        "colab": {
          "base_uri": "https://localhost:8080/"
        },
        "id": "0ELo2cYQDaKm",
        "outputId": "940788c9-9996-4463-9e24-fe893da0c345"
      },
      "execution_count": null,
      "outputs": [
        {
          "output_type": "execute_result",
          "data": {
            "text/plain": [
              "{('Charleston', 'USA'): 81,\n",
              " ('Charleston', 'Südamerika'): 92,\n",
              " ('Charleston', 'Europa'): 101,\n",
              " ('Charleston', 'Asien'): 130,\n",
              " ('Charleston', 'Afrika'): 115,\n",
              " ('Curitiba', 'USA'): 117,\n",
              " ('Curitiba', 'Südamerika'): 77,\n",
              " ('Curitiba', 'Europa'): 108,\n",
              " ('Curitiba', 'Asien'): 98,\n",
              " ('Curitiba', 'Afrika'): 100,\n",
              " ('Hamburg', 'USA'): 102,\n",
              " ('Hamburg', 'Südamerika'): 105,\n",
              " ('Hamburg', 'Europa'): 95,\n",
              " ('Hamburg', 'Asien'): 119,\n",
              " ('Hamburg', 'Afrika'): 111,\n",
              " ('Quanzhou', 'USA'): 115,\n",
              " ('Quanzhou', 'Südamerika'): 125,\n",
              " ('Quanzhou', 'Europa'): 90,\n",
              " ('Quanzhou', 'Asien'): 59,\n",
              " ('Quanzhou', 'Afrika'): 74,\n",
              " ('East London', 'USA'): 142,\n",
              " ('East London', 'Südamerika'): 100,\n",
              " ('East London', 'Europa'): 103,\n",
              " ('East London', 'Asien'): 105,\n",
              " ('East London', 'Afrika'): 71}"
            ]
          },
          "metadata": {},
          "execution_count": 29
        }
      ]
    },
    {
      "cell_type": "code",
      "source": [
        "# Nachfrage aus den Märtken"
      ],
      "metadata": {
        "id": "YlWu7CMzDvfn"
      },
      "execution_count": null,
      "outputs": []
    },
    {
      "cell_type": "code",
      "source": [
        "nachfrage.set_index([\"Markt\"], inplace=True)"
      ],
      "metadata": {
        "id": "QvTVt7VaD1fC"
      },
      "execution_count": null,
      "outputs": []
    },
    {
      "cell_type": "code",
      "source": [
        "d = nachfrage.to_dict(\"dict\")[\"Nachfragemenge\"]"
      ],
      "metadata": {
        "id": "52wF_vLFD63o"
      },
      "execution_count": null,
      "outputs": []
    },
    {
      "cell_type": "code",
      "source": [
        "d"
      ],
      "metadata": {
        "colab": {
          "base_uri": "https://localhost:8080/"
        },
        "id": "EJZ-yLAsEMeY",
        "outputId": "09d88d76-fb44-47da-d4b9-77fdc40727b7"
      },
      "execution_count": null,
      "outputs": [
        {
          "output_type": "execute_result",
          "data": {
            "text/plain": [
              "{'USA': 12, 'Südamerika': 8, 'Europa': 14, 'Asien': 16, 'Afrika': 7}"
            ]
          },
          "metadata": {},
          "execution_count": 33
        }
      ]
    },
    {
      "cell_type": "code",
      "source": [
        "# Kapazitäten der Ausbaustufen und Investitionskosten\n",
        "kapa.set_index([\"Produktionsstandort\",\"Ausbaustufe\"], inplace=True)"
      ],
      "metadata": {
        "id": "ejN0ixdyEQCw"
      },
      "execution_count": null,
      "outputs": []
    },
    {
      "cell_type": "code",
      "source": [
        "pcap = kapa.to_dict(\"dict\")[\"Kapazitäten\"]"
      ],
      "metadata": {
        "id": "lE9SNIMgEl4v"
      },
      "execution_count": null,
      "outputs": []
    },
    {
      "cell_type": "code",
      "source": [
        "pcap"
      ],
      "metadata": {
        "colab": {
          "base_uri": "https://localhost:8080/"
        },
        "id": "_3dV4y_LE1uu",
        "outputId": "72b81c6b-968f-46b2-d191-a7d08ab979f5"
      },
      "execution_count": null,
      "outputs": [
        {
          "output_type": "execute_result",
          "data": {
            "text/plain": [
              "{('Charleston', 'klein'): 10,\n",
              " ('Charleston', 'groß'): 20,\n",
              " ('Curitiba', 'klein'): 10,\n",
              " ('Curitiba', 'groß'): 20,\n",
              " ('Hamburg', 'klein'): 10,\n",
              " ('Hamburg', 'groß'): 20,\n",
              " ('Quanzhou', 'klein'): 10,\n",
              " ('Quanzhou', 'groß'): 20,\n",
              " ('East London', 'klein'): 10,\n",
              " ('East London', 'groß'): 20}"
            ]
          },
          "metadata": {},
          "execution_count": 36
        }
      ]
    },
    {
      "cell_type": "code",
      "source": [
        "cf = kapa.to_dict(\"dict\")[\"Investitionen\"]"
      ],
      "metadata": {
        "id": "F8QBJYVpEwMn"
      },
      "execution_count": null,
      "outputs": []
    },
    {
      "cell_type": "code",
      "source": [
        "cf"
      ],
      "metadata": {
        "colab": {
          "base_uri": "https://localhost:8080/"
        },
        "id": "qpmEKBmgE1HY",
        "outputId": "d03f1793-d3cc-481d-9736-578701c32b21"
      },
      "execution_count": null,
      "outputs": [
        {
          "output_type": "execute_result",
          "data": {
            "text/plain": [
              "{('Charleston', 'klein'): 6000,\n",
              " ('Charleston', 'groß'): 9000,\n",
              " ('Curitiba', 'klein'): 4500,\n",
              " ('Curitiba', 'groß'): 6750,\n",
              " ('Hamburg', 'klein'): 6500,\n",
              " ('Hamburg', 'groß'): 9750,\n",
              " ('Quanzhou', 'klein'): 4100,\n",
              " ('Quanzhou', 'groß'): 6150,\n",
              " ('East London', 'klein'): 4000,\n",
              " ('East London', 'groß'): 6000}"
            ]
          },
          "metadata": {},
          "execution_count": 38
        }
      ]
    },
    {
      "cell_type": "code",
      "source": [
        "# Beschaffungskosten und Kapazitäten\n",
        "beschaffung.set_index([\"Beschaffungsmarkt\",\"Vorprodukt\"], inplace=True)"
      ],
      "metadata": {
        "id": "xPeIY04zade4"
      },
      "execution_count": null,
      "outputs": []
    },
    {
      "cell_type": "code",
      "source": [
        "cb = beschaffung.to_dict(\"dict\")[\"Beschaffungskosten\"]"
      ],
      "metadata": {
        "id": "2Nz812sfqplH"
      },
      "execution_count": null,
      "outputs": []
    },
    {
      "cell_type": "code",
      "source": [
        "cb"
      ],
      "metadata": {
        "colab": {
          "base_uri": "https://localhost:8080/"
        },
        "id": "s6CEtUOxq1uO",
        "outputId": "becd267b-538d-4cd0-d923-928671740f70"
      },
      "execution_count": null,
      "outputs": [
        {
          "output_type": "execute_result",
          "data": {
            "text/plain": [
              "{('Afrika', 'Flasche'): 10,\n",
              " ('Afrika', 'Vitaminwasser'): 20,\n",
              " ('Asien', 'Flasche'): 12,\n",
              " ('Asien', 'Vitaminwasser'): 15,\n",
              " ('Europa', 'Flasche'): 15,\n",
              " ('Europa', 'Vitaminwasser'): 20,\n",
              " ('Südamerika', 'Flasche'): 8,\n",
              " ('Südamerika', 'Vitaminwasser'): 10,\n",
              " ('USA', 'Flasche'): 11,\n",
              " ('USA', 'Vitaminwasser'): 6}"
            ]
          },
          "metadata": {},
          "execution_count": 41
        }
      ]
    },
    {
      "cell_type": "code",
      "source": [
        "bcap = beschaffung.to_dict(\"dict\")[\"Kapazitäten\"]"
      ],
      "metadata": {
        "id": "m6w9qERKq2Yn"
      },
      "execution_count": null,
      "outputs": []
    },
    {
      "cell_type": "code",
      "source": [
        "bcap"
      ],
      "metadata": {
        "colab": {
          "base_uri": "https://localhost:8080/"
        },
        "id": "tKVY4R13rAPA",
        "outputId": "1e15f510-3b28-4c13-d77d-740343bb2c13"
      },
      "execution_count": null,
      "outputs": [
        {
          "output_type": "execute_result",
          "data": {
            "text/plain": [
              "{('Afrika', 'Flasche'): 60,\n",
              " ('Afrika', 'Vitaminwasser'): 30,\n",
              " ('Asien', 'Flasche'): 100,\n",
              " ('Asien', 'Vitaminwasser'): 40,\n",
              " ('Europa', 'Flasche'): 60,\n",
              " ('Europa', 'Vitaminwasser'): 60,\n",
              " ('Südamerika', 'Flasche'): 40,\n",
              " ('Südamerika', 'Vitaminwasser'): 30,\n",
              " ('USA', 'Flasche'): 50,\n",
              " ('USA', 'Vitaminwasser'): 35}"
            ]
          },
          "metadata": {},
          "execution_count": 43
        }
      ]
    },
    {
      "cell_type": "markdown",
      "metadata": {
        "id": "c9eede10"
      },
      "source": [
        "## Zielfunktion"
      ]
    },
    {
      "cell_type": "markdown",
      "source": [
        "min $K=\\sum_{i,j} c_{ij}* X_{ij} + \\sum_{i,a} fc_{ia}* Y_{ia} + \\sum_{m,p,i} bc_{mp}* Z_{mpi}$"
      ],
      "metadata": {
        "id": "l207OkwceC-S"
      }
    },
    {
      "cell_type": "code",
      "source": [
        "# Maximierung der gesamten Deckungsbeiträge\n",
        "scip.setObjective(\n",
        "    quicksum(cp[i,j]*X[i,j] for i in I for j in J) + #Produktionskosten\n",
        "    quicksum(cf[i,a]*Y[i,a] for i in I for a in A) + #Invest\n",
        "    quicksum(cb[m,p]*Z[m,p,i] for m in M for p in VP for i in I), #Beschaffungskosten\n",
        "    sense=\"minimize\"\n",
        "    )"
      ],
      "metadata": {
        "id": "5BiMFmg6vuCx"
      },
      "execution_count": null,
      "outputs": []
    },
    {
      "cell_type": "markdown",
      "metadata": {
        "id": "a8534816"
      },
      "source": [
        "## Nebenbedingungen"
      ]
    },
    {
      "cell_type": "code",
      "execution_count": null,
      "metadata": {
        "id": "9accd7c3"
      },
      "outputs": [],
      "source": []
    },
    {
      "cell_type": "markdown",
      "source": [
        "## Optimierung"
      ],
      "metadata": {
        "id": "Wh8LWhOUxoJy"
      }
    },
    {
      "cell_type": "code",
      "source": [
        "scip.redirectOutput()"
      ],
      "metadata": {
        "id": "FoiiwFT8SbBl"
      },
      "execution_count": null,
      "outputs": []
    },
    {
      "cell_type": "code",
      "source": [
        "scip.setRealParam('limits/time', 360.0)"
      ],
      "metadata": {
        "id": "tA-bPHMZSdcp"
      },
      "execution_count": null,
      "outputs": []
    },
    {
      "cell_type": "code",
      "source": [
        "scip.optimize()\n",
        "print(scip.getStatus())"
      ],
      "metadata": {
        "colab": {
          "base_uri": "https://localhost:8080/"
        },
        "id": "3NxLm__lxnqm",
        "outputId": "99e13c6f-c596-494c-c9d1-4bd7cb92fbbf"
      },
      "execution_count": null,
      "outputs": [
        {
          "output_type": "stream",
          "name": "stdout",
          "text": [
            "presolving:\n",
            "(round 1, fast)       0 del vars, 0 del conss, 0 add conss, 75 chg bounds, 0 chg sides, 0 chg coeffs, 0 upgd conss, 0 impls, 0 clqs\n",
            "   (0.0s) probing cycle finished: starting next cycle\n",
            "   (0.0s) symmetry computation started: requiring (bin +, int +, cont +), (fixed: bin -, int -, cont -)\n",
            "   (0.0s) no symmetry present (symcode time: 0.00)\n",
            "presolving (2 rounds: 2 fast, 1 medium, 1 exhaustive):\n",
            " 0 deleted vars, 0 deleted constraints, 0 added constraints, 75 tightened bounds, 0 added holes, 0 changed sides, 0 changed coefficients\n",
            " 0 implications, 0 cliques\n",
            "presolved problem has 85 variables (10 bin, 0 int, 0 impl, 75 cont) and 30 constraints\n",
            "     30 constraints of type <linear>\n",
            "Presolving Time: 0.01\n",
            "\n",
            " time | node  | left  |LP iter|LP it/n|mem/heur|mdpt |vars |cons |rows |cuts |sepa|confs|strbr|  dualbound   | primalbound  |  gap   | compl. \n",
            "p 0.0s|     1 |     0 |    25 |     - |   locks|   0 |  85 |  30 |  30 |   0 |  0 |   0 |   0 | 0.000000e+00 | 6.795900e+04 |    Inf | unknown\n",
            "i 0.0s|     1 |     0 |    25 |     - |  oneopt|   0 |  85 |  30 |  30 |   0 |  0 |   0 |   0 | 0.000000e+00 | 3.295900e+04 |    Inf | unknown\n",
            "  0.0s|     1 |     0 |    47 |     - |  1251k |   0 |  85 |  30 |  30 |   0 |  0 |   0 |   0 | 2.369150e+04 | 3.295900e+04 |  39.12%| unknown\n",
            "r 0.0s|     1 |     0 |    47 |     - |simplero|   0 |  85 |  30 |  30 |   0 |  0 |   0 |   0 | 2.369150e+04 | 2.470400e+04 |   4.27%| unknown\n",
            "  0.0s|     1 |     0 |    48 |     - |  1289k |   0 |  85 |  30 |  31 |   1 |  1 |   0 |   0 | 2.467100e+04 | 2.470400e+04 |   0.13%| unknown\n",
            "  0.0s|     1 |     0 |    48 |     - |  1289k |   0 |  85 |  30 |  31 |   1 |  1 |   0 |   0 | 2.467100e+04 | 2.470400e+04 |   0.13%| unknown\n",
            "  0.0s|     1 |     0 |    48 |     - |  1289k |   0 |  85 |  24 |  31 |   1 |  2 |   0 |   0 | 2.467100e+04 | 2.470400e+04 |   0.13%| unknown\n",
            "d 0.0s|     1 |     0 |    48 |     - |farkasdi|   0 |  85 |  24 |  31 |   0 |  3 |   0 |   0 | 2.467100e+04 | 2.467100e+04 |   0.00%| unknown\n",
            "  0.0s|     1 |     0 |    48 |     - |  1290k |   0 |  85 |  24 |  31 |   1 |  3 |   0 |   0 | 2.467100e+04 | 2.467100e+04 |   0.00%| unknown\n",
            "\n",
            "SCIP Status        : problem is solved [optimal solution found]\n",
            "Solving Time (sec) : 0.04\n",
            "Solving Nodes      : 1\n",
            "Primal Bound       : +2.46710000000000e+04 (4 solutions)\n",
            "Dual Bound         : +2.46710000000000e+04\n",
            "Gap                : 0.00 %\n",
            "optimal\n"
          ]
        }
      ]
    },
    {
      "cell_type": "markdown",
      "metadata": {
        "id": "9a459618"
      },
      "source": [
        "## Berechnung Lösung"
      ]
    },
    {
      "cell_type": "code",
      "source": [
        "print('LÖSUNG:')\n",
        "print('Zielfunktionswert (Kosten) =', scip.getObjVal())\n",
        "print(\"\\n\")\n",
        "print(\"PRODUKTIONS-MARKT-ZUTEILUNG\")\n",
        "for j in J:\n",
        "  print(f\"{j}:\")\n",
        "  for i in I:\n",
        "    if scip.getVal(X[i,j])>0:\n",
        "      print('\\t', f'{i,j} =', round(scip.getVal(X[i,j])))\n",
        "print(\"\\n\")\n",
        "print(\"INVESTITIONEN\")\n",
        "for i in I:\n",
        "  for a in A:\n",
        "    if scip.getVal(Y[i,a])>0:\n",
        "      print(f'{i,a} =', round(scip.getVal(Y[i,a])))\n",
        "print(\"\\n\")\n",
        "print(\"Beschaffungsmengen\")\n",
        "for i in I:\n",
        "  for p in VP:\n",
        "    for m in M:\n",
        "      if scip.getVal(Z[m,p,i]):\n",
        "        print(f'{i,p,m} =', round(scip.getVal(Z[m,p,i])))"
      ],
      "metadata": {
        "colab": {
          "base_uri": "https://localhost:8080/"
        },
        "id": "lkEt9koyxw3V",
        "outputId": "23911d34-4a1e-4f92-f912-21178408a3a7"
      },
      "execution_count": null,
      "outputs": [
        {
          "output_type": "stream",
          "name": "stdout",
          "text": [
            "LÖSUNG:\n",
            "Zielfunktionswert (Kosten) = 24671.0\n",
            "\n",
            "\n",
            "PRODUKTIONS-MARKT-ZUTEILUNG\n",
            "USA:\n",
            "\t ('Curitiba', 'USA') = 12\n",
            "Südamerika:\n",
            "\t ('Curitiba', 'Südamerika') = 8\n",
            "Europa:\n",
            "\t ('Quanzhou', 'Europa') = 4\n",
            "\t ('East London', 'Europa') = 10\n",
            "Asien:\n",
            "\t ('Quanzhou', 'Asien') = 16\n",
            "Afrika:\n",
            "\t ('East London', 'Afrika') = 7\n",
            "\n",
            "\n",
            "INVESTITIONEN\n",
            "('Curitiba', 'groß') = 1\n",
            "('Quanzhou', 'groß') = 1\n",
            "('East London', 'groß') = 1\n",
            "\n",
            "\n",
            "Beschaffungsmengen\n",
            "('Curitiba', 'Flasche', 'Afrika') = 17\n",
            "('Curitiba', 'Flasche', 'Südamerika') = 3\n",
            "('Curitiba', 'Vitaminwasser', 'Südamerika') = 20\n",
            "('Quanzhou', 'Flasche', 'Südamerika') = 20\n",
            "('Quanzhou', 'Vitaminwasser', 'Südamerika') = 2\n",
            "('Quanzhou', 'Vitaminwasser', 'USA') = 18\n",
            "('East London', 'Flasche', 'Südamerika') = 17\n",
            "('East London', 'Vitaminwasser', 'USA') = 17\n"
          ]
        }
      ]
    },
    {
      "cell_type": "code",
      "execution_count": null,
      "metadata": {
        "id": "4d84da39"
      },
      "outputs": [],
      "source": []
    }
  ]
}