{
  "nbformat": 4,
  "nbformat_minor": 0,
  "metadata": {
    "colab": {
      "provenance": [],
      "authorship_tag": "ABX9TyPW8Eswf0/ctTdxghZDvBHp",
      "include_colab_link": true
    },
    "kernelspec": {
      "name": "python3",
      "display_name": "Python 3"
    },
    "language_info": {
      "name": "python"
    }
  },
  "cells": [
    {
      "cell_type": "markdown",
      "metadata": {
        "id": "view-in-github",
        "colab_type": "text"
      },
      "source": [
        "<a href=\"https://colab.research.google.com/github/AlexKressner/WS24_Supply_Chain_Optimierung/blob/main/MasterPlanning_Template.ipynb\" target=\"_parent\"><img src=\"https://colab.research.google.com/assets/colab-badge.svg\" alt=\"Open In Colab\"/></a>"
      ]
    },
    {
      "cell_type": "markdown",
      "metadata": {
        "id": "b2fc884d"
      },
      "source": [
        "# Master Planning"
      ]
    },
    {
      "cell_type": "code",
      "execution_count": null,
      "metadata": {
        "id": "cdb29647"
      },
      "outputs": [],
      "source": [
        "! git clone https://github.com/AlexKressner/WS24_Supply_Chain_Optimierung"
      ]
    },
    {
      "cell_type": "code",
      "execution_count": null,
      "metadata": {
        "id": "d8c0c7cc"
      },
      "outputs": [],
      "source": [
        "! pip install -q pyscipopt"
      ]
    },
    {
      "cell_type": "code",
      "source": [
        "import pandas as pd\n",
        "from pyscipopt import Model, quicksum"
      ],
      "metadata": {
        "id": "7MzXHG4B86Qx"
      },
      "execution_count": null,
      "outputs": []
    },
    {
      "cell_type": "markdown",
      "source": [
        "## Daten laden"
      ],
      "metadata": {
        "id": "3Ci5xdy04596"
      }
    },
    {
      "cell_type": "code",
      "source": [
        "folder = \"WS24_Supply_Chain_Optimierung/Daten/MasterPlanning\""
      ],
      "metadata": {
        "id": "umWfTGv849zx"
      },
      "execution_count": null,
      "outputs": []
    },
    {
      "cell_type": "code",
      "source": [
        "# Kapazitäten\n",
        "beschaffung_kapa = pd.read_csv(f\"{folder}/Beschaffungskapazitaeten.csv\", sep=\";\")\n",
        "produktion_kapa = pd.read_csv(f\"{folder}/Produktionskapazitaeten.csv\", sep=\";\")"
      ],
      "metadata": {
        "id": "uF0YYNBI8ILm"
      },
      "execution_count": null,
      "outputs": []
    },
    {
      "cell_type": "code",
      "source": [
        "# Kosten\n",
        "produktion_kosten = pd.read_csv(f\"{folder}/Produktionskosten.csv\", sep=\";\", decimal=\",\")\n",
        "beschaffung_kosten = pd.read_csv(f\"{folder}/Beschaffungskosten.csv\", sep=\";\", decimal=\",\")\n",
        "lager_kosten = pd.read_csv(f\"{folder}/Lagerkosten.csv\", sep=\";\", decimal=\",\")\n",
        "transport_beschaffung_kosten = pd.read_csv(f\"{folder}/Transportkosten_Beschaffung.csv\", sep=\";\", decimal=\",\")\n",
        "transport_distribution_kosten = pd.read_csv(f\"{folder}/Transportkosten_Distribution.csv\", sep=\";\", decimal=\",\")"
      ],
      "metadata": {
        "id": "NTSilRdI-_B5"
      },
      "execution_count": null,
      "outputs": []
    },
    {
      "cell_type": "code",
      "source": [
        "# Direktbedarfskoeffizienten\n",
        "koeffizienten = pd.read_csv(f\"{folder}/Direktbedarfskoeffizienten.csv\", sep=\";\", decimal=\",\")"
      ],
      "metadata": {
        "id": "B5B4psTSnc9C"
      },
      "execution_count": null,
      "outputs": []
    },
    {
      "cell_type": "code",
      "source": [
        "# Nachfrage\n",
        "nachfrage = pd.read_csv(f\"{folder}/Nachfrage.csv\", sep=\";\")"
      ],
      "metadata": {
        "id": "fDodTt1S_E7V"
      },
      "execution_count": null,
      "outputs": []
    },
    {
      "cell_type": "markdown",
      "metadata": {
        "id": "798a67ee"
      },
      "source": [
        "## Indexmengen"
      ]
    },
    {
      "cell_type": "code",
      "source": [
        "I = produktion_kapa[\"Werk\"].unique().tolist() # Menge der Produktionsstandorte"
      ],
      "metadata": {
        "id": "goOwHnFj_ofs"
      },
      "execution_count": null,
      "outputs": []
    },
    {
      "cell_type": "code",
      "execution_count": null,
      "metadata": {
        "id": "f9e0fd6f"
      },
      "outputs": [],
      "source": [
        "J = nachfrage[\"Markt\"].unique().tolist() #Menge der Märkte"
      ]
    },
    {
      "cell_type": "code",
      "source": [
        "L = beschaffung_kapa[\"Lieferant\"].unique().tolist() # Menge der Lieferanten"
      ],
      "metadata": {
        "id": "p2M0U5RcZWjz"
      },
      "execution_count": null,
      "outputs": []
    },
    {
      "cell_type": "code",
      "source": [
        "P = lager_kosten[\"Produkt\"].unique().tolist() # Menge der Produkte"
      ],
      "metadata": {
        "id": "ep4tx586Ze_f"
      },
      "execution_count": null,
      "outputs": []
    },
    {
      "cell_type": "code",
      "source": [
        "VP = koeffizienten[\"Vorprodukt\"].unique().tolist() # Menge der Vorprodukte"
      ],
      "metadata": {
        "id": "iqY3icPuW7jj"
      },
      "execution_count": null,
      "outputs": []
    },
    {
      "cell_type": "code",
      "source": [
        "FP = koeffizienten[\"Fertigprodukt\"].unique().tolist() # Menge der Fertigprodukte"
      ],
      "metadata": {
        "id": "-U0Bd_RKaoF0"
      },
      "execution_count": null,
      "outputs": []
    },
    {
      "cell_type": "code",
      "source": [
        "A = {}\n",
        "for vp in koeffizienten[\"Vorprodukt\"].unique():\n",
        "  A[vp] = koeffizienten[koeffizienten[\"Vorprodukt\"]==vp][\"Fertigprodukt\"].tolist()"
      ],
      "metadata": {
        "id": "0USKjKQnr77U"
      },
      "execution_count": null,
      "outputs": []
    },
    {
      "cell_type": "code",
      "source": [
        "T = beschaffung_kapa[\"Woche\"].unique().tolist() # Menge der Planungsperioden (Wochen)"
      ],
      "metadata": {
        "id": "IxhGizoPNrPB"
      },
      "execution_count": null,
      "outputs": []
    },
    {
      "cell_type": "markdown",
      "source": [
        "## Optimierungsmodell"
      ],
      "metadata": {
        "id": "Q8f5UhN-A8UV"
      }
    },
    {
      "cell_type": "code",
      "source": [
        "scip = Model()"
      ],
      "metadata": {
        "id": "gIH-zc22A9tA"
      },
      "execution_count": null,
      "outputs": []
    },
    {
      "cell_type": "markdown",
      "metadata": {
        "id": "d1f9cf18"
      },
      "source": [
        "## Entscheidungsvariablen"
      ]
    },
    {
      "cell_type": "code",
      "source": [],
      "metadata": {
        "id": "2BgAB3pkcSj6"
      },
      "execution_count": null,
      "outputs": []
    },
    {
      "cell_type": "markdown",
      "metadata": {
        "id": "b99b4ca0"
      },
      "source": [
        "## Parameter"
      ]
    },
    {
      "cell_type": "code",
      "source": [
        "# Produktionskosten\n",
        "pc = produktion_kosten.set_index([\"Werk\",\"Produkt\"]).to_dict(\"dict\")[\"Produktionskosten\"] # Kosten reguläre Produktion in €/ME\n",
        "oc = produktion_kosten.set_index([\"Werk\"]).to_dict(\"dict\")[\"Kosten_pro_Zusatzkapa\"] # Kosten Zusatzkapazitäten in €/Kapazitätseinheit"
      ],
      "metadata": {
        "id": "LnaXtWEACWoU"
      },
      "execution_count": null,
      "outputs": []
    },
    {
      "cell_type": "code",
      "source": [
        "# Beschaffungskosten\n",
        "beschaffung_kosten.set_index([\"Lieferant\",\"Produkt\"], inplace=True)\n",
        "bc = beschaffung_kosten.to_dict(\"dict\")[\"Beschaffungskosten\"] # Kosten der Beschaffung eines Produktes in €/ME"
      ],
      "metadata": {
        "id": "-k__H4DlP84P"
      },
      "execution_count": null,
      "outputs": []
    },
    {
      "cell_type": "code",
      "source": [
        "# Transportkosten\n",
        "transport_beschaffung_kosten.set_index([\"Lieferant\",\"Werk\",\"Produkt\"], inplace=True)\n",
        "btc = transport_beschaffung_kosten.to_dict(\"dict\")[\"Transportkosten\"] # Kosten Transport bei Beschaffung in €/ME\n",
        "transport_distribution_kosten.set_index([\"Werk\",\"Markt\",\"Produkt\"], inplace=True)\n",
        "dtc = transport_distribution_kosten.to_dict(\"dict\")[\"Transportkosten\"] # Kosten Transport bei Distribution in €/ME"
      ],
      "metadata": {
        "id": "YlWu7CMzDvfn"
      },
      "execution_count": null,
      "outputs": []
    },
    {
      "cell_type": "code",
      "source": [
        "# Lagerkosten\n",
        "lager_kosten.set_index([\"Produkt\"], inplace=True)\n",
        "lc = lager_kosten.to_dict(\"dict\")[\"Lagerkosten\"] # Kosten Lagerung in €/Woche/ME"
      ],
      "metadata": {
        "id": "QYV_zhQtS-Td"
      },
      "execution_count": null,
      "outputs": []
    },
    {
      "cell_type": "code",
      "source": [
        "# Nachfrage\n",
        "nachfrage.set_index([\"Markt\",\"Produkt\",\"Woche\"], inplace=True)\n",
        "d = nachfrage.to_dict(\"dict\")[\"Nachfragemenge\"]"
      ],
      "metadata": {
        "id": "QvTVt7VaD1fC"
      },
      "execution_count": null,
      "outputs": []
    },
    {
      "cell_type": "code",
      "source": [
        "# Direktbedarfskoeffiziente\n",
        "koeffizienten.set_index([\"Vorprodukt\",\"Fertigprodukt\"], inplace=True)\n",
        "a = koeffizienten.to_dict(\"dict\")[\"Direktbedarfskoeffizient\"]"
      ],
      "metadata": {
        "id": "QEISqxapofvx"
      },
      "execution_count": null,
      "outputs": []
    },
    {
      "cell_type": "code",
      "source": [
        "# Kapazitäten\n",
        "produktion_kapa.set_index([\"Werk\",\"Woche\"], inplace=True)\n",
        "pcap = produktion_kapa.to_dict(\"dict\")[\"Kapaztiät\"]\n",
        "pcap_plus = produktion_kapa.to_dict(\"dict\")[\"Max_Kapa_durch_Zusatzschichten\"]\n",
        "beschaffung_kapa.set_index([\"Lieferant\",\"Produkt\",\"Woche\"], inplace=True)\n",
        "bcap = beschaffung_kapa.to_dict(\"dict\")[\"Kapazität\"]"
      ],
      "metadata": {
        "id": "ejN0ixdyEQCw"
      },
      "execution_count": null,
      "outputs": []
    },
    {
      "cell_type": "markdown",
      "metadata": {
        "id": "c9eede10"
      },
      "source": [
        "## Zielfunktion"
      ]
    },
    {
      "cell_type": "code",
      "source": [],
      "metadata": {
        "id": "hXgM2rbYcVtU"
      },
      "execution_count": null,
      "outputs": []
    },
    {
      "cell_type": "markdown",
      "metadata": {
        "id": "a8534816"
      },
      "source": [
        "## Nebenbedingungen"
      ]
    },
    {
      "cell_type": "code",
      "source": [],
      "metadata": {
        "id": "768NqIuRcYzW"
      },
      "execution_count": null,
      "outputs": []
    },
    {
      "cell_type": "markdown",
      "metadata": {
        "id": "9a459618"
      },
      "source": [
        "## Berechnung Lösung"
      ]
    },
    {
      "cell_type": "code",
      "source": [
        "scip.optimize()\n",
        "print(scip.getStatus())"
      ],
      "metadata": {
        "id": "tf9LRvMDCprP"
      },
      "execution_count": null,
      "outputs": []
    },
    {
      "cell_type": "code",
      "source": [
        "scip.getObjVal()"
      ],
      "metadata": {
        "id": "p2uVmZhuCsoF"
      },
      "execution_count": null,
      "outputs": []
    },
    {
      "cell_type": "code",
      "execution_count": null,
      "metadata": {
        "id": "4d84da39"
      },
      "outputs": [],
      "source": [
        "for t in T:\n",
        "  print(f\"Woche: {t}\")\n",
        "  for i in I:\n",
        "    for p in FP:\n",
        "      val = round(scip.getVal(X[i,p,t]))\n",
        "    if val > 0:\n",
        "      print(f\"Werk {i}\")\n",
        "      print(f\"Produktion: {val}\")\n",
        "    print(f\"Fertigwarenbestand: {round(scip.getVal(B[i,p,t]))}\")\n",
        "    print(\"\\t\")\n",
        "  print(\"\\n\")\n"
      ]
    },
    {
      "cell_type": "code",
      "source": [],
      "metadata": {
        "id": "VTBSqfQPiK7H"
      },
      "execution_count": null,
      "outputs": []
    }
  ]
}