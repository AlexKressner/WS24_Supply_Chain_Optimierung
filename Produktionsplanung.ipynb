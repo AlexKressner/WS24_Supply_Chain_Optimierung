{
  "nbformat": 4,
  "nbformat_minor": 0,
  "metadata": {
    "colab": {
      "provenance": [],
      "authorship_tag": "ABX9TyPs6JH4nGj6Y6r0ez2DcMph",
      "include_colab_link": true
    },
    "kernelspec": {
      "name": "python3",
      "display_name": "Python 3"
    },
    "language_info": {
      "name": "python"
    }
  },
  "cells": [
    {
      "cell_type": "markdown",
      "metadata": {
        "id": "view-in-github",
        "colab_type": "text"
      },
      "source": [
        "<a href=\"https://colab.research.google.com/github/AlexKressner/WS24_Supply_Chain_Optimierung/blob/main/Produktionsplanung.ipynb\" target=\"_parent\"><img src=\"https://colab.research.google.com/assets/colab-badge.svg\" alt=\"Open In Colab\"/></a>"
      ]
    },
    {
      "cell_type": "code",
      "execution_count": null,
      "metadata": {
        "id": "9nfCME0_Lx05"
      },
      "outputs": [],
      "source": [
        "# pip als Paketmanager\n",
        "! pip install -q pyscipopt"
      ]
    },
    {
      "cell_type": "code",
      "source": [
        "from pyscipopt import Model, quicksum"
      ],
      "metadata": {
        "id": "qrpgFGjALyiy"
      },
      "execution_count": null,
      "outputs": []
    },
    {
      "cell_type": "markdown",
      "source": [
        "# Optimierungsmodell zur Produktionsplanung"
      ],
      "metadata": {
        "id": "1k-fB9oinyM7"
      }
    },
    {
      "cell_type": "code",
      "source": [
        "# Erstellen einer Modellinstanz\n",
        "scip = Model()"
      ],
      "metadata": {
        "id": "DqnRqdDApk9E"
      },
      "execution_count": null,
      "outputs": []
    },
    {
      "cell_type": "markdown",
      "source": [
        "## Indexmengen"
      ],
      "metadata": {
        "id": "HQvqRr9JnwMh"
      }
    },
    {
      "cell_type": "code",
      "source": [
        "J = ['P1','P2'] # Menge der Produkte\n",
        "I = ['Maschinen','Rohstoffe','Montage'] # Menge der Produktionsressourcen"
      ],
      "metadata": {
        "id": "hwH_MTKEn0iL"
      },
      "execution_count": null,
      "outputs": []
    },
    {
      "cell_type": "markdown",
      "source": [
        "## Parameter (Daten)"
      ],
      "metadata": {
        "id": "J4Z0Jylyn6Hb"
      }
    },
    {
      "cell_type": "code",
      "source": [
        "c={} # Deckungsbeiträge\n",
        "c['P1']=15\n",
        "c['P2']=20"
      ],
      "metadata": {
        "id": "16snopE6n8LM"
      },
      "execution_count": null,
      "outputs": []
    },
    {
      "cell_type": "code",
      "source": [
        "a={} # Produktionskoeffizienten, a[i,j]\n",
        "a['Maschinen']={'P1':1,'P2':1}\n",
        "a['Rohstoffe']={'P1':6,'P2':9}\n",
        "a['Montage']={'P1':0,'P2':1}"
      ],
      "metadata": {
        "id": "3tDODUrNn--F"
      },
      "execution_count": null,
      "outputs": []
    },
    {
      "cell_type": "code",
      "source": [
        "b={} # Kapazitäten Produktionsfaktoren\n",
        "b['Maschinen']=100\n",
        "b['Rohstoffe']=720\n",
        "b['Montage']=60"
      ],
      "metadata": {
        "id": "gebL0QDgoEOo"
      },
      "execution_count": null,
      "outputs": []
    },
    {
      "cell_type": "markdown",
      "source": [
        "## Entscheidungsvariablen"
      ],
      "metadata": {
        "id": "L0Ho9tuAoG8n"
      }
    },
    {
      "cell_type": "code",
      "source": [
        "# Definition der Entscheidungsvariablen\n",
        "# j=1 -> P1 -> x[P1]\n",
        "# j=2 -> P2 -> x[P2]\n",
        "x={}\n",
        "for j in J:\n",
        "    x[j] = scip.addVar(vtype='C', lb=0, ub=None, name=j)\n",
        "print('Entscheidungsvariablen =', scip.getVars())"
      ],
      "metadata": {
        "id": "1b4ajhJ4oJAW"
      },
      "execution_count": null,
      "outputs": []
    },
    {
      "cell_type": "markdown",
      "source": [
        "## Zielfunktion"
      ],
      "metadata": {
        "id": "7-sH7ayQptNn"
      }
    },
    {
      "cell_type": "code",
      "source": [
        "# Maximierung der gesamten Deckungsbeiträge\n",
        "scip.setObjective(quicksum(c[j]*x[j] for j in J), sense=\"maximize\")"
      ],
      "metadata": {
        "id": "DP11hT9cpvNS"
      },
      "execution_count": null,
      "outputs": []
    },
    {
      "cell_type": "markdown",
      "source": [
        "## Nebenbedingungen/ Restriktionen"
      ],
      "metadata": {
        "id": "eUVXIzAHqVSe"
      }
    },
    {
      "cell_type": "code",
      "source": [
        "# i=1=Maschine -> x[P1] + x[P2] <= 100\n",
        "# i=2=Rohstoffe -> 6x[P1] + 9x[P2] <= 720\n",
        "# i=3=Endmontage -> x[P2] <= 60\n",
        "for i in I:\n",
        "    scip.addCons(quicksum(a[i][j]*x[j] for j in J)<=b[i], name=f\"Kapazität_{i}\")\n",
        "print('Nebenbedingungen =', scip.getConss())"
      ],
      "metadata": {
        "id": "7N_nK2zSqURt"
      },
      "execution_count": null,
      "outputs": []
    },
    {
      "cell_type": "markdown",
      "source": [
        "## Berechnung der Lösung"
      ],
      "metadata": {
        "id": "IPKeY5QcrCKo"
      }
    },
    {
      "cell_type": "code",
      "source": [
        "scip.optimize()\n",
        "# Status des Solvers\n",
        "status = scip.getStatus()\n",
        "print(f\"Status des Solvers: {status} \\n\")\n",
        "\n",
        "if status == \"optimal\":\n",
        "    print('LÖSUNG:')\n",
        "    print('Zielfunktionswert (Deckungsbeitrag) =', scip.getObjVal())\n",
        "    for j in J:\n",
        "        print(f'{j} =', round(scip.getVal(x[j])))\n",
        "else:\n",
        "    print('Problem hat keine Lösung')"
      ],
      "metadata": {
        "id": "fHtzLajYqL_D"
      },
      "execution_count": null,
      "outputs": []
    }
  ]
}