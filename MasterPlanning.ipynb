{
  "nbformat": 4,
  "nbformat_minor": 0,
  "metadata": {
    "colab": {
      "provenance": [],
      "authorship_tag": "ABX9TyOVZB9bPzUeUxWWzE/9t3cb",
      "include_colab_link": true
    },
    "kernelspec": {
      "name": "python3",
      "display_name": "Python 3"
    },
    "language_info": {
      "name": "python"
    }
  },
  "cells": [
    {
      "cell_type": "markdown",
      "metadata": {
        "id": "view-in-github",
        "colab_type": "text"
      },
      "source": [
        "<a href=\"https://colab.research.google.com/github/AlexKressner/WS24_Supply_Chain_Optimierung/blob/main/MasterPlanning.ipynb\" target=\"_parent\"><img src=\"https://colab.research.google.com/assets/colab-badge.svg\" alt=\"Open In Colab\"/></a>"
      ]
    },
    {
      "cell_type": "markdown",
      "metadata": {
        "id": "b2fc884d"
      },
      "source": [
        "# Master Planning"
      ]
    },
    {
      "cell_type": "code",
      "execution_count": 45,
      "metadata": {
        "id": "cdb29647",
        "colab": {
          "base_uri": "https://localhost:8080/"
        },
        "outputId": "ab4aeec1-136c-45bc-bec6-fc98ca283999"
      },
      "outputs": [
        {
          "output_type": "stream",
          "name": "stdout",
          "text": [
            "fatal: destination path 'WS24_Supply_Chain_Optimierung' already exists and is not an empty directory.\n"
          ]
        }
      ],
      "source": [
        "! git clone https://github.com/AlexKressner/WS24_Supply_Chain_Optimierung"
      ]
    },
    {
      "cell_type": "code",
      "execution_count": 46,
      "metadata": {
        "id": "d8c0c7cc"
      },
      "outputs": [],
      "source": [
        "! pip install -q pyscipopt"
      ]
    },
    {
      "cell_type": "code",
      "source": [
        "import pandas as pd\n",
        "from pyscipopt import Model, quicksum"
      ],
      "metadata": {
        "id": "7MzXHG4B86Qx"
      },
      "execution_count": 47,
      "outputs": []
    },
    {
      "cell_type": "markdown",
      "source": [
        "## Daten laden"
      ],
      "metadata": {
        "id": "3Ci5xdy04596"
      }
    },
    {
      "cell_type": "code",
      "source": [
        "folder = \"WS24_Supply_Chain_Optimierung/Daten/MasterPlanning\""
      ],
      "metadata": {
        "id": "umWfTGv849zx"
      },
      "execution_count": 48,
      "outputs": []
    },
    {
      "cell_type": "code",
      "source": [
        "# Kapazitäten\n",
        "beschaffung_kapa = pd.read_csv(f\"{folder}/Beschaffungskapazitaeten.csv\", sep=\";\")\n",
        "produktion_kapa = pd.read_csv(f\"{folder}/Produktionskapazitaeten.csv\", sep=\";\")"
      ],
      "metadata": {
        "id": "uF0YYNBI8ILm"
      },
      "execution_count": 49,
      "outputs": []
    },
    {
      "cell_type": "code",
      "source": [
        "# Kosten\n",
        "produktion_kosten = pd.read_csv(f\"{folder}/Produktionskosten.csv\", sep=\";\", decimal=\",\")\n",
        "beschaffung_kosten = pd.read_csv(f\"{folder}/Beschaffungskosten.csv\", sep=\";\", decimal=\",\")\n",
        "lager_kosten = pd.read_csv(f\"{folder}/Lagerkosten.csv\", sep=\";\", decimal=\",\")\n",
        "transport_beschaffung_kosten = pd.read_csv(f\"{folder}/Transportkosten_Beschaffung.csv\", sep=\";\", decimal=\",\")\n",
        "transport_distribution_kosten = pd.read_csv(f\"{folder}/Transportkosten_Distribution.csv\", sep=\";\", decimal=\",\")"
      ],
      "metadata": {
        "id": "NTSilRdI-_B5"
      },
      "execution_count": 50,
      "outputs": []
    },
    {
      "cell_type": "code",
      "source": [
        "# Direktbedarfskoeffizienten\n",
        "koeffizienten = pd.read_csv(f\"{folder}/Direktbedarfskoeffizienten.csv\", sep=\";\", decimal=\",\")"
      ],
      "metadata": {
        "id": "B5B4psTSnc9C"
      },
      "execution_count": 51,
      "outputs": []
    },
    {
      "cell_type": "code",
      "source": [
        "# Nachfrage\n",
        "nachfrage = pd.read_csv(f\"{folder}/Nachfrage.csv\", sep=\";\")"
      ],
      "metadata": {
        "id": "fDodTt1S_E7V"
      },
      "execution_count": 52,
      "outputs": []
    },
    {
      "cell_type": "markdown",
      "metadata": {
        "id": "798a67ee"
      },
      "source": [
        "## Indexmengen"
      ]
    },
    {
      "cell_type": "code",
      "source": [
        "I = produktion_kapa[\"Werk\"].unique().tolist() # Menge der Produktionsstandorte"
      ],
      "metadata": {
        "id": "goOwHnFj_ofs"
      },
      "execution_count": 53,
      "outputs": []
    },
    {
      "cell_type": "code",
      "execution_count": 54,
      "metadata": {
        "id": "f9e0fd6f"
      },
      "outputs": [],
      "source": [
        "J = nachfrage[\"Markt\"].unique().tolist() #Menge der Märkte"
      ]
    },
    {
      "cell_type": "code",
      "source": [
        "L = beschaffung_kapa[\"Lieferant\"].unique().tolist() # Menge der Lieferanten"
      ],
      "metadata": {
        "id": "p2M0U5RcZWjz"
      },
      "execution_count": 55,
      "outputs": []
    },
    {
      "cell_type": "code",
      "source": [
        "P = lager_kosten[\"Produkt\"].unique().tolist() # Menge der Produkte"
      ],
      "metadata": {
        "id": "ep4tx586Ze_f"
      },
      "execution_count": 56,
      "outputs": []
    },
    {
      "cell_type": "code",
      "source": [
        "VP = koeffizienten[\"Vorprodukt\"].unique().tolist() # Menge der Vorprodukte"
      ],
      "metadata": {
        "id": "iqY3icPuW7jj"
      },
      "execution_count": 57,
      "outputs": []
    },
    {
      "cell_type": "code",
      "source": [
        "FP = koeffizienten[\"Fertigprodukt\"].unique().tolist() # Menge der Fertigprodukte"
      ],
      "metadata": {
        "id": "-U0Bd_RKaoF0"
      },
      "execution_count": 58,
      "outputs": []
    },
    {
      "cell_type": "code",
      "source": [
        "A = {}\n",
        "for vp in koeffizienten[\"Vorprodukt\"].unique():\n",
        "  A[vp] = koeffizienten[koeffizienten[\"Vorprodukt\"]==vp][\"Fertigprodukt\"].tolist()"
      ],
      "metadata": {
        "id": "0USKjKQnr77U"
      },
      "execution_count": 59,
      "outputs": []
    },
    {
      "cell_type": "code",
      "source": [
        "A"
      ],
      "metadata": {
        "colab": {
          "base_uri": "https://localhost:8080/"
        },
        "id": "vQ8U63Jceh1N",
        "outputId": "48534e24-6087-4a66-b042-b892fba27486"
      },
      "execution_count": 60,
      "outputs": [
        {
          "output_type": "execute_result",
          "data": {
            "text/plain": [
              "{'Flasche': ['Well'], 'Vitaminwasser': ['Well']}"
            ]
          },
          "metadata": {},
          "execution_count": 60
        }
      ]
    },
    {
      "cell_type": "code",
      "source": [
        "T = beschaffung_kapa[\"Woche\"].unique().tolist() # Menge der Planungsperioden (Wochen)"
      ],
      "metadata": {
        "id": "IxhGizoPNrPB"
      },
      "execution_count": 61,
      "outputs": []
    },
    {
      "cell_type": "markdown",
      "source": [
        "## Optimierungsmodell"
      ],
      "metadata": {
        "id": "Q8f5UhN-A8UV"
      }
    },
    {
      "cell_type": "code",
      "source": [
        "scip = Model()"
      ],
      "metadata": {
        "id": "gIH-zc22A9tA"
      },
      "execution_count": 62,
      "outputs": []
    },
    {
      "cell_type": "markdown",
      "metadata": {
        "id": "d1f9cf18"
      },
      "source": [
        "## Entscheidungsvariablen"
      ]
    },
    {
      "cell_type": "code",
      "source": [
        "# Beschaffungsmengen der jeweiligen Vorprodukte (Flasche und Vitaminwasser)\n",
        "Z={}\n",
        "for l in L:\n",
        "  for i in I:\n",
        "    for p in VP:\n",
        "      for t in T:\n",
        "        Z[l,i,p,t] = scip.addVar(vtype=\"C\", name=f\"{l},{i},{p},{t}\")"
      ],
      "metadata": {
        "id": "lbpazTPleD6g"
      },
      "execution_count": 63,
      "outputs": []
    },
    {
      "cell_type": "code",
      "execution_count": 64,
      "metadata": {
        "id": "afb847d3"
      },
      "outputs": [],
      "source": [
        "# Produktionsmenge Fertigprodukte\n",
        "X={}\n",
        "for i in I:\n",
        "  for t in T:\n",
        "    for p in FP:\n",
        "      X[i,p,t] = scip.addVar(vtype=\"C\", name=f\"{i},{p},{t}\")"
      ]
    },
    {
      "cell_type": "code",
      "source": [
        "# Distributionsmenge Fertigprodukte\n",
        "Y={}\n",
        "for i in I:\n",
        "  for j in J:\n",
        "    for t in T:\n",
        "      for p in FP:\n",
        "        Y[i,j,p,t] = scip.addVar(vtype=\"C\", name=f\"{i},{j},{p},{t}\")"
      ],
      "metadata": {
        "id": "wMAg4KPFb3Ol"
      },
      "execution_count": 65,
      "outputs": []
    },
    {
      "cell_type": "code",
      "source": [
        "# Bestand von Produkt (Vor- und Fertigprodukt)\n",
        "B={}\n",
        "for i in I:\n",
        "  for p in P:\n",
        "    for t in T:\n",
        "      B[i,p,t] = scip.addVar(vtype=\"C\", name=f\"{i},{p},{t}\")"
      ],
      "metadata": {
        "id": "Bsht13r6Z4QR"
      },
      "execution_count": 66,
      "outputs": []
    },
    {
      "cell_type": "code",
      "source": [
        "# Nutzung von Zusatzkapazitäten\n",
        "O={}\n",
        "for i in I:\n",
        "    for t in T:\n",
        "      O[i,t] = scip.addVar(vtype=\"C\", name=f\"{i},{t}\")"
      ],
      "metadata": {
        "id": "shc6t3DGPKBs"
      },
      "execution_count": 67,
      "outputs": []
    },
    {
      "cell_type": "code",
      "source": [
        "print('Anzahl Entscheidungsvariablen =', len(scip.getVars()))"
      ],
      "metadata": {
        "colab": {
          "base_uri": "https://localhost:8080/"
        },
        "id": "hN6GY-5YBA9Y",
        "outputId": "53eb55b2-4792-4a38-d627-33f68ff41df0"
      },
      "execution_count": 68,
      "outputs": [
        {
          "output_type": "stream",
          "name": "stdout",
          "text": [
            "Anzahl Entscheidungsvariablen = 360\n"
          ]
        }
      ]
    },
    {
      "cell_type": "markdown",
      "metadata": {
        "id": "b99b4ca0"
      },
      "source": [
        "## Parameter"
      ]
    },
    {
      "cell_type": "code",
      "source": [
        "# Produktionskosten\n",
        "pc = produktion_kosten.set_index([\"Werk\",\"Produkt\"]).to_dict(\"dict\")[\"Produktionskosten\"] # Kosten reguläre Produktion in €/ME\n",
        "oc = produktion_kosten.set_index([\"Werk\"]).to_dict(\"dict\")[\"Kosten_pro_Zusatzkapa\"] # Kosten Zusatzkapazitäten in €/Kapazitätseinheit"
      ],
      "metadata": {
        "id": "LnaXtWEACWoU"
      },
      "execution_count": 69,
      "outputs": []
    },
    {
      "cell_type": "code",
      "source": [
        "# Beschaffungskosten\n",
        "beschaffung_kosten.set_index([\"Lieferant\",\"Produkt\"], inplace=True)\n",
        "bc = beschaffung_kosten.to_dict(\"dict\")[\"Beschaffungskosten\"] # Kosten der Beschaffung eines Produktes in €/ME"
      ],
      "metadata": {
        "id": "-k__H4DlP84P"
      },
      "execution_count": 70,
      "outputs": []
    },
    {
      "cell_type": "code",
      "source": [
        "# Transportkosten\n",
        "transport_beschaffung_kosten.set_index([\"Lieferant\",\"Werk\",\"Produkt\"], inplace=True)\n",
        "btc = transport_beschaffung_kosten.to_dict(\"dict\")[\"Transportkosten\"] # Kosten Transport bei Beschaffung in €/ME\n",
        "transport_distribution_kosten.set_index([\"Werk\",\"Markt\",\"Produkt\"], inplace=True)\n",
        "dtc = transport_distribution_kosten.to_dict(\"dict\")[\"Transportkosten\"] # Kosten Transport bei Distribution in €/ME"
      ],
      "metadata": {
        "id": "YlWu7CMzDvfn"
      },
      "execution_count": 71,
      "outputs": []
    },
    {
      "cell_type": "code",
      "source": [
        "# Lagerkosten\n",
        "lager_kosten.set_index([\"Produkt\"], inplace=True)\n",
        "lc = lager_kosten.to_dict(\"dict\")[\"Lagerkosten\"] # Kosten Lagerung in €/Woche/ME"
      ],
      "metadata": {
        "id": "QYV_zhQtS-Td"
      },
      "execution_count": 72,
      "outputs": []
    },
    {
      "cell_type": "code",
      "source": [
        "# Nachfrage\n",
        "nachfrage.set_index([\"Markt\",\"Produkt\",\"Woche\"], inplace=True)\n",
        "d = nachfrage.to_dict(\"dict\")[\"Nachfragemenge\"]"
      ],
      "metadata": {
        "id": "QvTVt7VaD1fC"
      },
      "execution_count": 73,
      "outputs": []
    },
    {
      "cell_type": "code",
      "source": [
        "# Direktbedarfskoeffiziente\n",
        "koeffizienten.set_index([\"Vorprodukt\",\"Fertigprodukt\"], inplace=True)\n",
        "a = koeffizienten.to_dict(\"dict\")[\"Direktbedarfskoeffizient\"]"
      ],
      "metadata": {
        "id": "QEISqxapofvx"
      },
      "execution_count": 74,
      "outputs": []
    },
    {
      "cell_type": "code",
      "source": [
        "# Kapazitäten\n",
        "produktion_kapa.set_index([\"Werk\",\"Woche\"], inplace=True)\n",
        "pcap = produktion_kapa.to_dict(\"dict\")[\"Kapaztiät\"]\n",
        "pcap_plus = produktion_kapa.to_dict(\"dict\")[\"Max_Kapa_durch_Zusatzschichten\"]\n",
        "beschaffung_kapa.set_index([\"Lieferant\",\"Produkt\",\"Woche\"], inplace=True)\n",
        "bcap = beschaffung_kapa.to_dict(\"dict\")[\"Kapazität\"]"
      ],
      "metadata": {
        "id": "ejN0ixdyEQCw"
      },
      "execution_count": 75,
      "outputs": []
    },
    {
      "cell_type": "markdown",
      "metadata": {
        "id": "c9eede10"
      },
      "source": [
        "## Zielfunktion"
      ]
    },
    {
      "cell_type": "markdown",
      "source": [
        "### Zielfunktion\n",
        "Min $K = \\sum_{l,i,p \\in VP,t} bc_{lp} * Z_{lipt} + \\sum_{l,i,p \\in VP,t} tbc_{lip} * Z_{lipt} + \\sum_{i,p \\in FP,t} pc_{ip} * X_{ipt} + \\sum_{i,p,t} lc_{p} * B_{ipt} + \\sum_{i,t} oc^+_{it} * O_{it} + \\sum_{i,j,p,t} dtc_{ijp} * Y_{ijpt}$"
      ],
      "metadata": {
        "id": "lT4f5UwcyzKS"
      }
    },
    {
      "cell_type": "code",
      "source": [],
      "metadata": {
        "id": "R6xVpkbNb3ax"
      },
      "execution_count": 75,
      "outputs": []
    },
    {
      "cell_type": "code",
      "source": [
        "bc.get(('ErpoPlast', 'Vitaminwasser'),0)"
      ],
      "metadata": {
        "colab": {
          "base_uri": "https://localhost:8080/"
        },
        "id": "LI8rkIO3zCEP",
        "outputId": "0d1934d8-c674-4ce5-b8a0-d36741267954"
      },
      "execution_count": 76,
      "outputs": [
        {
          "output_type": "execute_result",
          "data": {
            "text/plain": [
              "0"
            ]
          },
          "metadata": {},
          "execution_count": 76
        }
      ]
    },
    {
      "cell_type": "code",
      "execution_count": 77,
      "metadata": {
        "id": "954d02bf"
      },
      "outputs": [],
      "source": [
        "# Minimierung der gesamten Kosten\n",
        "scip.setObjective(\n",
        "    sum(bc.get((l,p),0) * Z[l,i,p,t] for l in L for i in I for p in VP for t in T) + # Kosten Beschaffung\n",
        "    sum(btc.get((l,i,p),0) * Z[l,i,p,t] for l in L for i in I for p in VP for t in T) + # Transportkosten Beschaffung\n",
        "    sum(pc[i,p]*X[i,p,t] for i in I for p in FP for t in T) + # Kosten der Produktion mit regulärer Kapazität\n",
        "    sum(oc[i]*O[i,t] for i in I for t in T) + # Kosten der Produktion mit zusätzlicher Kapazität\n",
        "    sum(lc[p]*B[i,p,t] for i in I for p in P for t in T) + # Kosten der Lagerung\n",
        "    sum(dtc[i,j,p]*Y[i,j,p,t] for i in I for j in J for p in FP for t in T), # Transportkosten Distribution\n",
        "    sense=\"minimize\"\n",
        "    )"
      ]
    },
    {
      "cell_type": "markdown",
      "metadata": {
        "id": "a8534816"
      },
      "source": [
        "## Nebenbedingungen"
      ]
    },
    {
      "cell_type": "markdown",
      "source": [
        "**(1) Lieferantenkapazitäten**\n",
        "\n",
        "$\\sum_{i} Z_{lipt} \\le bcap_{lpt}$\n",
        "\n",
        "$∀ l,p \\in VP, t$"
      ],
      "metadata": {
        "id": "El09g3Zwh1pt"
      }
    },
    {
      "cell_type": "code",
      "source": [
        "for l in L:\n",
        "  for p in VP:\n",
        "    for t in T:\n",
        "      scip.addCons(quicksum(Z[l,i,p,t] for i in I)<= bcap.get((l,p,t),0))"
      ],
      "metadata": {
        "id": "0q4H4wEGh3zw"
      },
      "execution_count": 78,
      "outputs": []
    },
    {
      "cell_type": "markdown",
      "source": [
        "**(2) Produktionskapazitäten**\n",
        "\n",
        "$\\sum_{p \\in FP} X_{ipt} \\le pcap_{it} + O_{it}$\n",
        "\n",
        "$∀ i, t$"
      ],
      "metadata": {
        "id": "359dUj_PiGwf"
      }
    },
    {
      "cell_type": "code",
      "source": [
        "for i in I:\n",
        "  for t in T:\n",
        "    scip.addCons(sum(X[i,p,t] for p in FP) <= pcap[i,t] + O[i,t])"
      ],
      "metadata": {
        "id": "tHRFE139iIBv"
      },
      "execution_count": 79,
      "outputs": []
    },
    {
      "cell_type": "markdown",
      "source": [
        "**(3) Beschränkung der Zusatzkapazitäten**\n",
        "\n",
        "$O_{it} \\le pcap^+_{it}$\n",
        "\n",
        "$∀ i, t$"
      ],
      "metadata": {
        "id": "oq1__uNxiShX"
      }
    },
    {
      "cell_type": "code",
      "source": [
        "for i in I:\n",
        "  for t in T:\n",
        "    scip.addCons(O[i,t] <= pcap_plus[i,t])"
      ],
      "metadata": {
        "id": "zIF3XqSOiTAi"
      },
      "execution_count": 80,
      "outputs": []
    },
    {
      "cell_type": "markdown",
      "source": [
        "**(4) Lagerbilanzgleichung für die Fertigprodukte**\n",
        "\n",
        "$B_{ipt} = B_{ip,t-1} + X_{ipt} - \\sum_j Y_{ijpt}$\n",
        "\n",
        "$∀ i,p \\in FP, t$"
      ],
      "metadata": {
        "id": "oPX0LIibijUg"
      }
    },
    {
      "cell_type": "code",
      "source": [
        "T"
      ],
      "metadata": {
        "colab": {
          "base_uri": "https://localhost:8080/"
        },
        "id": "CxMFEoxreJM4",
        "outputId": "89626dba-f379-4c4c-94fb-b594fc7f69fe"
      },
      "execution_count": 81,
      "outputs": [
        {
          "output_type": "execute_result",
          "data": {
            "text/plain": [
              "[1, 2, 3, 4, 5]"
            ]
          },
          "metadata": {},
          "execution_count": 81
        }
      ]
    },
    {
      "cell_type": "code",
      "source": [
        "for i in I:\n",
        "  for p in FP:\n",
        "    for t in T:\n",
        "        scip.addCons(B[i,p,t] == B.get((i,p,t-1),0) + X[i,p,t] - sum(Y[i,j,p,t] for j in J))"
      ],
      "metadata": {
        "id": "PyWmhQM3ij1T"
      },
      "execution_count": 82,
      "outputs": []
    },
    {
      "cell_type": "markdown",
      "source": [
        "**(5) Lagerbilanzgleichung für die Vorprodukte**\n",
        "\n",
        "$B_{ipt} = B_{ip,t-1} + \\sum_l Z_{lipt} - \\sum_{p' \\in A_{p} } a_{pp'} * X_{ip't}$\n",
        "\n",
        "$∀ i,p \\in VP, t$"
      ],
      "metadata": {
        "id": "ck7OV3FTi7jG"
      }
    },
    {
      "cell_type": "code",
      "source": [
        "for i in I:\n",
        "  for p in VP:\n",
        "    for t in T:\n",
        "      scip.addCons(B[i,p,t] == B.get((i,p,t-1),0) + sum(Z[l,i,p,t] for l in L) - sum(a[p,pp] * X[i,pp,t] for pp in A[p]))"
      ],
      "metadata": {
        "id": "1ulrpRvqi8Bn"
      },
      "execution_count": 83,
      "outputs": []
    },
    {
      "cell_type": "markdown",
      "source": [
        "**(6) Nachfragebefriedigung**\n",
        "\n",
        "$\\sum_i Y_{ijpt} = d_{jpt}$\n",
        "\n",
        "$∀ j,p \\in FP, t$"
      ],
      "metadata": {
        "id": "Wg8dhPiBjPSd"
      }
    },
    {
      "cell_type": "code",
      "source": [
        "for j in J:\n",
        "  for t in T:\n",
        "    for p in FP:\n",
        "      scip.addCons(sum(Y[i,j,p,t] for i in I) == d[j,p,t])"
      ],
      "metadata": {
        "id": "ZYJzH8eQjPzT"
      },
      "execution_count": 84,
      "outputs": []
    },
    {
      "cell_type": "markdown",
      "metadata": {
        "id": "9a459618"
      },
      "source": [
        "## Berechnung Lösung"
      ]
    },
    {
      "cell_type": "code",
      "source": [
        "scip.optimize()\n",
        "print(scip.getStatus())"
      ],
      "metadata": {
        "colab": {
          "base_uri": "https://localhost:8080/"
        },
        "id": "tf9LRvMDCprP",
        "outputId": "d273d84f-c5d0-444c-f00c-0230dd251c18"
      },
      "execution_count": 85,
      "outputs": [
        {
          "output_type": "stream",
          "name": "stdout",
          "text": [
            "optimal\n"
          ]
        }
      ]
    },
    {
      "cell_type": "code",
      "source": [
        "scip.getObjVal()"
      ],
      "metadata": {
        "colab": {
          "base_uri": "https://localhost:8080/"
        },
        "id": "p2uVmZhuCsoF",
        "outputId": "bf48064f-5435-473c-9716-ec73c16c91f8"
      },
      "execution_count": 86,
      "outputs": [
        {
          "output_type": "execute_result",
          "data": {
            "text/plain": [
              "30419.35"
            ]
          },
          "metadata": {},
          "execution_count": 86
        }
      ]
    },
    {
      "cell_type": "code",
      "source": [
        "pcap"
      ],
      "metadata": {
        "colab": {
          "base_uri": "https://localhost:8080/"
        },
        "id": "m63xdEh8ezA5",
        "outputId": "c38e4ec3-8594-4e83-e883-3f6bf25f55ff"
      },
      "execution_count": 89,
      "outputs": [
        {
          "output_type": "execute_result",
          "data": {
            "text/plain": [
              "{('Curitiba', 1): 100,\n",
              " ('Quanzhou', 1): 250,\n",
              " ('East London', 1): 250,\n",
              " ('Curitiba', 2): 72,\n",
              " ('Quanzhou', 2): 253,\n",
              " ('East London', 2): 235,\n",
              " ('Curitiba', 3): 78,\n",
              " ('Quanzhou', 3): 168,\n",
              " ('East London', 3): 223,\n",
              " ('Curitiba', 4): 126,\n",
              " ('Quanzhou', 4): 278,\n",
              " ('East London', 4): 218,\n",
              " ('Curitiba', 5): 130,\n",
              " ('Quanzhou', 5): 150,\n",
              " ('East London', 5): 275}"
            ]
          },
          "metadata": {},
          "execution_count": 89
        }
      ]
    },
    {
      "cell_type": "code",
      "execution_count": 87,
      "metadata": {
        "id": "4d84da39",
        "colab": {
          "base_uri": "https://localhost:8080/"
        },
        "outputId": "1b787dfb-401f-48bf-f4a8-29c43b87389f"
      },
      "outputs": [
        {
          "output_type": "stream",
          "name": "stdout",
          "text": [
            "Woche: 1\n",
            "Werk Curitiba\n",
            "Produktion: 82\n",
            "Fertigwarenbestand: 12\n",
            "\t\n",
            "Werk Quanzhou\n",
            "Produktion: 250\n",
            "Fertigwarenbestand: 10\n",
            "\t\n",
            "Werk East London\n",
            "Produktion: 250\n",
            "Fertigwarenbestand: 20\n",
            "\t\n",
            "\n",
            "\n",
            "Woche: 2\n",
            "Werk Curitiba\n",
            "Produktion: 72\n",
            "Fertigwarenbestand: 0\n",
            "\t\n",
            "Werk Quanzhou\n",
            "Produktion: 253\n",
            "Fertigwarenbestand: 0\n",
            "\t\n",
            "Werk East London\n",
            "Produktion: 235\n",
            "Fertigwarenbestand: 12\n",
            "\t\n",
            "\n",
            "\n",
            "Woche: 3\n",
            "Werk Curitiba\n",
            "Produktion: 78\n",
            "Fertigwarenbestand: 0\n",
            "\t\n",
            "Werk Quanzhou\n",
            "Produktion: 168\n",
            "Fertigwarenbestand: 0\n",
            "\t\n",
            "Werk East London\n",
            "Produktion: 223\n",
            "Fertigwarenbestand: 0\n",
            "\t\n",
            "\n",
            "\n",
            "Woche: 4\n",
            "Fertigwarenbestand: 0\n",
            "\t\n",
            "Werk Quanzhou\n",
            "Produktion: 216\n",
            "Fertigwarenbestand: 26\n",
            "\t\n",
            "Werk East London\n",
            "Produktion: 218\n",
            "Fertigwarenbestand: 0\n",
            "\t\n",
            "\n",
            "\n",
            "Woche: 5\n",
            "Werk Curitiba\n",
            "Produktion: 119\n",
            "Fertigwarenbestand: 0\n",
            "\t\n",
            "Werk Quanzhou\n",
            "Produktion: 150\n",
            "Fertigwarenbestand: 0\n",
            "\t\n",
            "Werk East London\n",
            "Produktion: 275\n",
            "Fertigwarenbestand: 0\n",
            "\t\n",
            "\n",
            "\n"
          ]
        }
      ],
      "source": [
        "for t in T:\n",
        "  print(f\"Woche: {t}\")\n",
        "  for i in I:\n",
        "    for p in FP:\n",
        "      val = round(scip.getVal(X[i,p,t]))\n",
        "    if val > 0:\n",
        "      print(f\"Werk {i}\")\n",
        "      print(f\"Produktion: {val}\")\n",
        "    print(f\"Fertigwarenbestand: {round(scip.getVal(B[i,p,t]))}\")\n",
        "    print(\"\\t\")\n",
        "  print(\"\\n\")\n"
      ]
    },
    {
      "cell_type": "code",
      "source": [],
      "metadata": {
        "id": "VTBSqfQPiK7H"
      },
      "execution_count": 87,
      "outputs": []
    }
  ]
}